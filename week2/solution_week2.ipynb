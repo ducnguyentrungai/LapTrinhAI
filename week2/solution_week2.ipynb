{
 "cells": [
  {
   "cell_type": "code",
   "execution_count": 46,
   "metadata": {},
   "outputs": [],
   "source": [
    "import math"
   ]
  },
  {
   "cell_type": "code",
   "execution_count": 47,
   "metadata": {},
   "outputs": [
    {
     "name": "stdout",
     "output_type": "stream",
     "text": [
      "2.0\n"
     ]
    }
   ],
   "source": [
    "def average(* n):\n",
    "    return sum(n)/len(n)\n",
    "\n",
    "print(average(1, 2, 3))"
   ]
  },
  {
   "cell_type": "code",
   "execution_count": 48,
   "metadata": {},
   "outputs": [
    {
     "name": "stdout",
     "output_type": "stream",
     "text": [
      "Diện tích tam giác là: 6.0\n"
     ]
    }
   ],
   "source": [
    "def area(a, b, c):\n",
    "    p = (a + b + c) / 2\n",
    "    return math.sqrt(p * (p-a) * (p-b) * (p-c))\n",
    "\n",
    "print(f\"Diện tích tam giác là: {area(3,4,5)}\")"
   ]
  },
  {
   "cell_type": "code",
   "execution_count": 49,
   "metadata": {},
   "outputs": [
    {
     "name": "stdout",
     "output_type": "stream",
     "text": [
      "Diện tích của tam giác là: 0.0\n"
     ]
    }
   ],
   "source": [
    "def area2(x1, y1, x2, y2, x3, y3):\n",
    "    area = 0.5 * abs(x1 * (y2 - y3) + x2 * (y3 - y1) + x3 * (y1 - y2))\n",
    "    return area\n",
    "\n",
    "# Nhập toạ độ của các đỉnh\n",
    "x1, y1 = map(float, input(\"Nhập toạ độ của điểm A (x1, y1): \").split())\n",
    "x2, y2 = map(float, input(\"Nhập toạ độ của điểm B (x2, y2): \").split())\n",
    "x3, y3 = map(float, input(\"Nhập toạ độ của điểm C (x3, y3): \").split())\n",
    "\n",
    "# Tính diện tích tam giác\n",
    "area = area2(x1, y1, x2, y2, x3, y3)\n",
    "print(\"Diện tích của tam giác là:\", area)"
   ]
  },
  {
   "cell_type": "code",
   "execution_count": 50,
   "metadata": {},
   "outputs": [
    {
     "name": "stdout",
     "output_type": "stream",
     "text": [
      "Tổng các chữ số là: 6\n"
     ]
    }
   ],
   "source": [
    "def total(n):\n",
    "    sum = 0\n",
    "    while n!= 0:\n",
    "        sum += (n%10)\n",
    "        n //= 10\n",
    "    return sum\n",
    "print(\"Tổng các chữ số là:\", total(123))"
   ]
  },
  {
   "cell_type": "code",
   "execution_count": 51,
   "metadata": {},
   "outputs": [
    {
     "name": "stdout",
     "output_type": "stream",
     "text": [
      "3 là số Fibonacci.\n"
     ]
    }
   ],
   "source": [
    "def is_perfect_square(n):\n",
    "    return int(n**0.5)**2 == n\n",
    "\n",
    "def is_fibonacci(num):\n",
    "    return is_perfect_square(5*num*num + 4) or is_perfect_square(5*num*num - 4)\n",
    "\n",
    "# Nhập số cần kiểm tra\n",
    "number = int(input(\"Nhập số cần kiểm tra: \"))\n",
    "\n",
    "if is_fibonacci(number):\n",
    "    print(number, \"là số Fibonacci.\")\n",
    "else:\n",
    "    print(number, \"không phải là số Fibonacci.\")\n"
   ]
  },
  {
   "cell_type": "code",
   "execution_count": 53,
   "metadata": {},
   "outputs": [
    {
     "name": "stdout",
     "output_type": "stream",
     "text": [
      "Tổng của các giai thừa từ 1 đến 4 là: 33\n"
     ]
    }
   ],
   "source": [
    "def factorial(n):\n",
    "    if n == 0:\n",
    "        return 1\n",
    "    else:\n",
    "        return n * factorial(n - 1)\n",
    "\n",
    "def factorial_sum(n):\n",
    "    total = 0\n",
    "    for i in range(1, n + 1):\n",
    "        total += factorial(i)\n",
    "    return total\n",
    "\n",
    "# Kiểm tra hàm với một số nguyên dương\n",
    "number = 4\n",
    "print(\"Tổng của các giai thừa từ 1 đến\", number, \"là:\", factorial_sum(number))\n"
   ]
  },
  {
   "cell_type": "code",
   "execution_count": 57,
   "metadata": {},
   "outputs": [
    {
     "name": "stdout",
     "output_type": "stream",
     "text": [
      "Xếp loại giỏi\n"
     ]
    }
   ],
   "source": [
    "def GPA(n):\n",
    "    if n < 3.5:\n",
    "        print(\"Xếp loại yếu\")\n",
    "    elif n < 5:\n",
    "        print(\"Xếp loại kém\")\n",
    "    elif n < 6.5:\n",
    "        print('Xếp loại trung bình')\n",
    "    elif n < 8:\n",
    "        print('Xếp loại khá')\n",
    "    elif n < 9:\n",
    "        print(\"Xếp loại giỏi\")\n",
    "    else:\n",
    "        print(\"Xếp loại xuất sắc\")\n",
    "GPA(8.5)"
   ]
  },
  {
   "cell_type": "code",
   "execution_count": 1,
   "metadata": {},
   "outputs": [
    {
     "name": "stdout",
     "output_type": "stream",
     "text": [
      "5\n"
     ]
    }
   ],
   "source": [
    "def max(a, b, c):\n",
    "    temp = a\n",
    "    if temp < b:\n",
    "        temp = b\n",
    "    if b < c:\n",
    "        temp = c\n",
    "\n",
    "    if a == b == temp:\n",
    "        return c\n",
    "    elif a == c == temp:\n",
    "        return b\n",
    "    elif b == c == temp:\n",
    "        return a\n",
    "    return temp\n",
    "\n",
    "print(max(9, 5, 9))"
   ]
  },
  {
   "cell_type": "code",
   "execution_count": 9,
   "metadata": {},
   "outputs": [
    {
     "name": "stdout",
     "output_type": "stream",
     "text": [
      "29/2/2020\n"
     ]
    }
   ],
   "source": [
    "def ngay(d , m , y):\n",
    "    if (m % 2 != 0 and m <= 7) or (m % 2 == 0 and m > 7):\n",
    "        if d > 31:\n",
    "            d = d % 31\n",
    "            m = m + 1\n",
    "    if (m % 2 == 0 and m <= 7) or (m % 2 != 0 and m > 7):\n",
    "        if d > 30:\n",
    "            d = d % 30\n",
    "            m = m + 1\n",
    "    if (m == 2 and d > 28) and y % 4 != 0:\n",
    "        d = d % 28 \n",
    "        m = m + 1\n",
    "    elif (m == 2 and d > 29) and y % 4 == 0:\n",
    "        d = d % 29\n",
    "        m = m + 1\n",
    "    print(f\"{d}/{m}/{y}\")\n",
    "ngay(29,2,2020)"
   ]
  }
 ],
 "metadata": {
  "kernelspec": {
   "display_name": "Python 3",
   "language": "python",
   "name": "python3"
  },
  "language_info": {
   "codemirror_mode": {
    "name": "ipython",
    "version": 3
   },
   "file_extension": ".py",
   "mimetype": "text/x-python",
   "name": "python",
   "nbconvert_exporter": "python",
   "pygments_lexer": "ipython3",
   "version": "3.12.0"
  }
 },
 "nbformat": 4,
 "nbformat_minor": 2
}
