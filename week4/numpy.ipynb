{
 "cells": [
  {
   "cell_type": "code",
   "execution_count": 1,
   "metadata": {},
   "outputs": [],
   "source": [
    "import numpy as np"
   ]
  },
  {
   "cell_type": "code",
   "execution_count": 2,
   "metadata": {},
   "outputs": [
    {
     "name": "stdout",
     "output_type": "stream",
     "text": [
      "int32\n"
     ]
    }
   ],
   "source": [
    "# dtype -> data type: kiểu dữ liệu\n",
    "arr = np.array([1, 2, 3, 4], dtype=int)\n",
    "print(arr.dtype)"
   ]
  },
  {
   "cell_type": "code",
   "execution_count": 3,
   "metadata": {},
   "outputs": [
    {
     "name": "stdout",
     "output_type": "stream",
     "text": [
      "float64\n"
     ]
    }
   ],
   "source": [
    "arr1 = np.array([1, 2, 3, 4.])\n",
    "print(arr1.dtype)"
   ]
  },
  {
   "cell_type": "code",
   "execution_count": 4,
   "metadata": {},
   "outputs": [
    {
     "name": "stdout",
     "output_type": "stream",
     "text": [
      "[[1 2 3]\n",
      " [3 4 5]]\n",
      "int32\n",
      "2\n"
     ]
    }
   ],
   "source": [
    "# Khởi toạ mảng 2 chiều\n",
    "arr_d2 = np.array([(1, 2, 3),\n",
    "                  (3, 4, 5)], dtype = int)\n",
    "print(arr_d2)\n",
    "print(arr_d2.dtype)\n",
    "print(arr_d2.ndim)"
   ]
  },
  {
   "cell_type": "code",
   "execution_count": 5,
   "metadata": {},
   "outputs": [
    {
     "name": "stdout",
     "output_type": "stream",
     "text": [
      "(3, 2, 3)\n"
     ]
    },
    {
     "data": {
      "text/plain": [
       "2"
      ]
     },
     "execution_count": 5,
     "metadata": {},
     "output_type": "execute_result"
    }
   ],
   "source": [
    "# Khởi tạo mảng 3 chiều\n",
    "arr_d3 = np.array(([(1, 1, 1), (1, 1, 1)],\n",
    "                   [(2, 2, 2), (2, 2, 2)],\n",
    "                   [(3, 3, 3), (3, 3, 3)]), dtype=int)\n",
    "print(arr_d3.shape)\n",
    "(arr_d3[1]).ndim"
   ]
  },
  {
   "cell_type": "code",
   "execution_count": 6,
   "metadata": {},
   "outputs": [
    {
     "name": "stdout",
     "output_type": "stream",
     "text": [
      "[[[1. 1. 1. 1.]\n",
      "  [1. 1. 1. 1.]\n",
      "  [1. 1. 1. 1.]]\n",
      "\n",
      " [[1. 1. 1. 1.]\n",
      "  [1. 1. 1. 1.]\n",
      "  [1. 1. 1. 1.]]]\n"
     ]
    }
   ],
   "source": [
    "arr_one_3d = np.ones([2, 3, 4], dtype=float)\n",
    "print(arr_one_3d)"
   ]
  },
  {
   "cell_type": "code",
   "execution_count": 7,
   "metadata": {},
   "outputs": [
    {
     "data": {
      "text/plain": [
       "array([1, 3, 5, 7, 9])"
      ]
     },
     "execution_count": 7,
     "metadata": {},
     "output_type": "execute_result"
    }
   ],
   "source": [
    "np.arange(1, 10, 2)"
   ]
  },
  {
   "cell_type": "code",
   "execution_count": 8,
   "metadata": {},
   "outputs": [
    {
     "data": {
      "text/plain": [
       "array([[0.69903148, 0.38775682, 0.1777322 ],\n",
       "       [0.98016849, 0.98709235, 0.47940239]])"
      ]
     },
     "execution_count": 8,
     "metadata": {},
     "output_type": "execute_result"
    }
   ],
   "source": [
    "np.random.random((2,3))"
   ]
  },
  {
   "cell_type": "code",
   "execution_count": 9,
   "metadata": {},
   "outputs": [
    {
     "data": {
      "text/plain": [
       "array([[ True, False, False, False, False],\n",
       "       [False,  True, False, False, False],\n",
       "       [False, False,  True, False, False],\n",
       "       [False, False, False,  True, False],\n",
       "       [False, False, False, False,  True]])"
      ]
     },
     "execution_count": 9,
     "metadata": {},
     "output_type": "execute_result"
    }
   ],
   "source": [
    "# Khởi tạo ma trận đơn vị từ \n",
    "# eye -> identiny matrix : ma trận đơn vị\n",
    "np.eye(5, dtype=bool)"
   ]
  },
  {
   "cell_type": "code",
   "execution_count": 10,
   "metadata": {},
   "outputs": [
    {
     "data": {
      "text/plain": [
       "array([[1, 0, 0, 0],\n",
       "       [0, 2, 0, 0],\n",
       "       [0, 0, 3, 0],\n",
       "       [0, 0, 0, 4]])"
      ]
     },
     "execution_count": 10,
     "metadata": {},
     "output_type": "execute_result"
    }
   ],
   "source": [
    "# Khởi tạo mà trận đường chéo vơi đương chéo cho trước\n",
    "# diag -> 'diagonel': đường chéo\n",
    "\n",
    "np.diag((1, 2, 3, 4))\n"
   ]
  },
  {
   "cell_type": "code",
   "execution_count": 11,
   "metadata": {},
   "outputs": [
    {
     "data": {
      "text/plain": [
       "array([[  0,   1,   0],\n",
       "       [500, 728,   0],\n",
       "       [768,   0,   0]])"
      ]
     },
     "execution_count": 11,
     "metadata": {},
     "output_type": "execute_result"
    }
   ],
   "source": [
    "# Tạo mảng với giá trị không được định sẵn\n",
    "# empty: trống\n",
    "np.empty((3,3), dtype=int)"
   ]
  },
  {
   "cell_type": "code",
   "execution_count": 12,
   "metadata": {},
   "outputs": [
    {
     "name": "stdout",
     "output_type": "stream",
     "text": [
      "[[1 2 3]\n",
      " [3 4 5]] \n",
      "\n",
      "[['1' '2' '3']\n",
      " ['3' '4' 'a']]\n",
      "<U11\n"
     ]
    }
   ],
   "source": [
    "# Tạo mẳng từ một list hoặc tupe\n",
    "# list: danh sách\n",
    "# tupe: tập hợp chú ý tupe là kiểu immutable(bất biến) \n",
    "tp = ((1, 2, 3), (3, 4, 5))\n",
    "lst = [[1, 2, 3], [3, 4, 'a']]\n",
    "print(np.array(tp), '\\n')\n",
    "print(np.asarray(lst))\n",
    "print(np.asarray(lst).dtype)"
   ]
  },
  {
   "cell_type": "code",
   "execution_count": 13,
   "metadata": {},
   "outputs": [
    {
     "name": "stdout",
     "output_type": "stream",
     "text": [
      "[[6 2]\n",
      " [2 4]]\n",
      "(2, 2)\n",
      "[[0 0]\n",
      " [0 0]]\n"
     ]
    }
   ],
   "source": [
    "# Tạo mảng từ các hàm sao chép shape\n",
    "t3 = np.array([[6, 2], [2, 4]])\n",
    "print(t3)\n",
    "print(t3.shape)\n",
    "print(np.empty_like(t3))"
   ]
  },
  {
   "cell_type": "code",
   "execution_count": 14,
   "metadata": {},
   "outputs": [
    {
     "data": {
      "text/plain": [
       "array([[1, 1],\n",
       "       [1, 1]])"
      ]
     },
     "execution_count": 14,
     "metadata": {},
     "output_type": "execute_result"
    }
   ],
   "source": [
    "np.ones_like(t3)"
   ]
  },
  {
   "cell_type": "code",
   "execution_count": 15,
   "metadata": {},
   "outputs": [
    {
     "data": {
      "text/plain": [
       "array([[0, 0],\n",
       "       [0, 0]])"
      ]
     },
     "execution_count": 15,
     "metadata": {},
     "output_type": "execute_result"
    }
   ],
   "source": [
    "np.zeros_like(t3)"
   ]
  },
  {
   "cell_type": "code",
   "execution_count": 16,
   "metadata": {},
   "outputs": [
    {
     "data": {
      "text/plain": [
       "array([[0, 0],\n",
       "       [0, 0]])"
      ]
     },
     "execution_count": 16,
     "metadata": {},
     "output_type": "execute_result"
    }
   ],
   "source": [
    "np.full_like(t3, fill_value=0.1, dtype=int)"
   ]
  },
  {
   "cell_type": "code",
   "execution_count": 17,
   "metadata": {},
   "outputs": [
    {
     "data": {
      "text/plain": [
       "array([[0.1, 0.1],\n",
       "       [0.1, 0.1]])"
      ]
     },
     "execution_count": 17,
     "metadata": {},
     "output_type": "execute_result"
    }
   ],
   "source": [
    "np.full_like(t3, fill_value=0.1, dtype=float)"
   ]
  },
  {
   "cell_type": "markdown",
   "metadata": {},
   "source": [
    "Các thuộc tính cơ bản của mảng"
   ]
  },
  {
   "cell_type": "code",
   "execution_count": 18,
   "metadata": {},
   "outputs": [
    {
     "name": "stdout",
     "output_type": "stream",
     "text": [
      "Kiểu dữ liệu của phần tử trong mảng: float64\n",
      "Kích thước của mảng: (2, 3)\n",
      "Số phần tử trong mảng: 6\n",
      "Số chiều của mảng: 2\n"
     ]
    }
   ],
   "source": [
    "x = np.zeros((2, 3), dtype=float)\n",
    "\n",
    "print(\"Kiểu dữ liệu của phần tử trong mảng:\", x.dtype)\n",
    "print(\"Kích thước của mảng:\", x.shape)\n",
    "print(\"Số phần tử trong mảng:\", x.size)\n",
    "print(\"Số chiều của mảng:\", x.ndim) # number of dimetion"
   ]
  },
  {
   "cell_type": "code",
   "execution_count": 19,
   "metadata": {},
   "outputs": [
    {
     "name": "stdout",
     "output_type": "stream",
     "text": [
      "<U11\n"
     ]
    }
   ],
   "source": [
    "arr = np.array(['apple', 'bananaaaaaa', 'cherry'])\n",
    "print(arr.dtype)"
   ]
  },
  {
   "cell_type": "code",
   "execution_count": 20,
   "metadata": {},
   "outputs": [
    {
     "name": "stdout",
     "output_type": "stream",
     "text": [
      "[b'1' b'256' b'3' b'4']\n",
      "|S3\n"
     ]
    }
   ],
   "source": [
    "arr = np.array([1, 256, 3, 4], dtype='S')\n",
    "print(arr)\n",
    "print(arr.dtype)"
   ]
  },
  {
   "cell_type": "markdown",
   "metadata": {},
   "source": [
    "Chuyển đổi kiểu dữ liệu của mảng"
   ]
  },
  {
   "cell_type": "code",
   "execution_count": 21,
   "metadata": {},
   "outputs": [
    {
     "name": "stdout",
     "output_type": "stream",
     "text": [
      "[1 2 3 0 0]\n",
      "int32\n",
      "[1 2 3 0 0]\n",
      "int32\n",
      "[1.1 2.1 3.1 0.  0. ]\n",
      "float64\n",
      "[ True  True  True False False]\n",
      "bool\n"
     ]
    }
   ],
   "source": [
    "arr = np.array([1.1, 2.1, 3.1, 0.0, 0])\n",
    "t1 = arr.astype('i')\n",
    "t2 = arr.astype(int)\n",
    "t3 = arr.astype(float)\n",
    "t4 = arr.astype(bool)\n",
    "\n",
    "print(t1)\n",
    "print(t1.dtype)\n",
    "print(t2)\n",
    "print(t2.dtype)\n",
    "print(t3)\n",
    "print(t3.dtype)\n",
    "print(t4)\n",
    "print(t4.dtype)"
   ]
  },
  {
   "cell_type": "code",
   "execution_count": 22,
   "metadata": {},
   "outputs": [
    {
     "name": "stdout",
     "output_type": "stream",
     "text": [
      "[[[1 2 3 4]]]\n",
      "shape of array : (1, 1, 4)\n",
      "4\n"
     ]
    }
   ],
   "source": [
    "## Tạo một mảng có 5 kích thước bằng cách sử dụng ndmin bằng cách sử dụng một vectơ có các giá trị 1,2,3,4\n",
    "## và xác minh rằng chiều cuối cùng có giá trị 4:\n",
    "arr = np.array([1, 2, 3, 4], ndmin=3)\n",
    "\n",
    "print(arr)\n",
    "print('shape of array :', arr.shape)\n",
    "print(arr.size)"
   ]
  },
  {
   "cell_type": "code",
   "execution_count": 23,
   "metadata": {},
   "outputs": [
    {
     "name": "stdout",
     "output_type": "stream",
     "text": [
      "[ 1  2  3  4  5  6  7  8  9 10 11 12]\n",
      "(12,)\n",
      "[ 1  2  3  4  5  6  7  8  9 10]\n",
      "(10,)\n"
     ]
    }
   ],
   "source": [
    "t = np.array((1, 2, 3, 4, 5, 6, 7, 8, 9, 10, 11, 12))\n",
    "# Khởi tạo ma trận với range()\n",
    "t1 = np.array(range(1, 11), dtype=int)\n",
    "print(t)\n",
    "print(t.shape)\n",
    "print(t1)\n",
    "print(t1.shape)"
   ]
  },
  {
   "cell_type": "code",
   "execution_count": 24,
   "metadata": {},
   "outputs": [
    {
     "name": "stdout",
     "output_type": "stream",
     "text": [
      "[[ 1  2]\n",
      " [ 3  4]\n",
      " [ 5  6]\n",
      " [ 7  8]\n",
      " [ 9 10]]\n",
      "[[ 1  2  3  4  5]\n",
      " [ 6  7  8  9 10]]\n"
     ]
    }
   ],
   "source": [
    "# reshape() from 1D to 2D\n",
    "print(t1.reshape(5, 2))\n",
    "print(t1.reshape(2, 5))"
   ]
  },
  {
   "cell_type": "code",
   "execution_count": 25,
   "metadata": {},
   "outputs": [
    {
     "name": "stdout",
     "output_type": "stream",
     "text": [
      "[[[ 1  2]\n",
      "  [ 3  4]\n",
      "  [ 5  6]]\n",
      "\n",
      " [[ 7  8]\n",
      "  [ 9 10]\n",
      "  [11 12]]]\n"
     ]
    }
   ],
   "source": [
    "# reshap() from 2D to 3D\n",
    "print(t.reshape(2, 3, 2))"
   ]
  },
  {
   "cell_type": "code",
   "execution_count": 26,
   "metadata": {},
   "outputs": [
    {
     "name": "stdout",
     "output_type": "stream",
     "text": [
      "[1 2 3 4 5 6]\n",
      "[1 2 3 4 5 6]\n"
     ]
    }
   ],
   "source": [
    "# làm phẳng mảng\n",
    "t = np.array([[1, 2, 3], [4, 5, 6]])\n",
    "\n",
    "t1 = t.reshape(-1)\n",
    "print(t1)\n",
    "print(t.flatten())"
   ]
  }
 ],
 "metadata": {
  "kernelspec": {
   "display_name": "Python 3",
   "language": "python",
   "name": "python3"
  },
  "language_info": {
   "codemirror_mode": {
    "name": "ipython",
    "version": 3
   },
   "file_extension": ".py",
   "mimetype": "text/x-python",
   "name": "python",
   "nbconvert_exporter": "python",
   "pygments_lexer": "ipython3",
   "version": "3.12.0"
  }
 },
 "nbformat": 4,
 "nbformat_minor": 2
}
