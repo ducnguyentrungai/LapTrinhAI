{
 "cells": [
  {
   "cell_type": "code",
   "execution_count": 41,
   "metadata": {},
   "outputs": [],
   "source": [
    "import numpy as np\n",
    "import math"
   ]
  },
  {
   "cell_type": "code",
   "execution_count": 42,
   "metadata": {},
   "outputs": [],
   "source": [
    "# #bai 1: Kiểm tra số nguyên tố\n",
    "# def isPrime(n):\n",
    "#     if n < 2:\n",
    "#         return False\n",
    "#     if n == 2:\n",
    "#         return True\n",
    "#     if n % 2 == 0:\n",
    "#         return False\n",
    "    \n",
    "#     sqrt_n = int(math.sqrt(n) + 1)\n",
    "#     for i in range(3, sqrt_n, 2):\n",
    "#         if(n % i) == 0:\n",
    "#             return False\n",
    "#     return True \n",
    "\n",
    "# print(isPrime(5))       "
   ]
  },
  {
   "cell_type": "code",
   "execution_count": 43,
   "metadata": {},
   "outputs": [],
   "source": [
    "# # bai 2: kiểm tra số nguyên tố trong đoạn [A, B]\n",
    "# A = int(input(\"Input A:\"))\n",
    "# B = int(input(\"Input B:\"))\n",
    "\n",
    "# def print_is_prime(a, b):\n",
    "#     if a > b:\n",
    "#         temp = a\n",
    "#         a = b\n",
    "#         b = temp\n",
    "\n",
    "#     for i in range(a, b):\n",
    "#         if isPrime(i):\n",
    "#             print(i)\n",
    "\n",
    "# print_is_prime(A,B)"
   ]
  },
  {
   "cell_type": "code",
   "execution_count": 44,
   "metadata": {},
   "outputs": [
    {
     "name": "stdout",
     "output_type": "stream",
     "text": [
      "viet\n"
     ]
    }
   ],
   "source": [
    "str = \"toi yeu viet nam\"\n",
    "words = str.split()\n",
    "\n",
    "longest_word = ''\n",
    "for word in words:\n",
    "    if len(word) > len(longest_word):\n",
    "        longest_word = word\n",
    "print(longest_word)"
   ]
  },
  {
   "cell_type": "code",
   "execution_count": 45,
   "metadata": {},
   "outputs": [
    {
     "name": "stdout",
     "output_type": "stream",
     "text": [
      "['t', 'o', 'i', ' ', 'y', 'e', 'u', ' ', 'v', 'i', 'e', 't', ' ', 'n', 'a', 'm']\n"
     ]
    }
   ],
   "source": [
    "letters = [item for item in str]\n",
    "print(letters)"
   ]
  },
  {
   "cell_type": "code",
   "execution_count": 46,
   "metadata": {},
   "outputs": [
    {
     "name": "stdout",
     "output_type": "stream",
     "text": [
      "10 140733032352472\n",
      "11 140733032352504\n"
     ]
    }
   ],
   "source": []
  },
  {
   "cell_type": "code",
   "execution_count": null,
   "metadata": {},
   "outputs": [],
   "source": []
  }
 ],
 "metadata": {
  "kernelspec": {
   "display_name": "Python 3",
   "language": "python",
   "name": "python3"
  },
  "language_info": {
   "codemirror_mode": {
    "name": "ipython",
    "version": 3
   },
   "file_extension": ".py",
   "mimetype": "text/x-python",
   "name": "python",
   "nbconvert_exporter": "python",
   "pygments_lexer": "ipython3",
   "version": "3.12.0"
  }
 },
 "nbformat": 4,
 "nbformat_minor": 2
}
