{
  "cells": [
    {
      "cell_type": "markdown",
      "metadata": {
        "id": "I4zUpqvy6T66"
      },
      "source": [
        "# Named Entity Recognition\n",
        "\n",
        "Nhận dạng tên-thực thể (NER) còn được gọi là nhận dạng thực thể, phân nhóm thực thể và trích xuất thực thể. NER là thành phần trích xuất thông tin nhằm mục đích xác định và phân loại các thực thể được đặt tên trong văn bản phi cấu trúc.\n",
        "\n",
        "---\n",
        "\n",
        "NER liên quan đến việc xác định thông tin chính trong văn bản và phân loại thành một tập hợp các danh mục được xác định trước. Thực thể là thứ được nói đến hoặc đề cập đến một cách nhất quán trong văn bản, chẳng hạn như tên người, tổ chức, địa điểm, cách diễn đạt thời gian, số lượng, tỷ lệ phần trăm và nhiều danh mục được xác định trước khác.\n",
        "\n",
        "---\n",
        "\n",
        "Các ứng dụng vây của hệ thống NER trên nhiều lĩnh vực khác nhau, bao gồm question answering, information retrieval, và machine translation. NER đóng một vai trò quan trọng trong việc nâng cao độ chính xác của các tác vụ NLP khác như part-of-speech tagging và parsing. Về cốt lõi, NLP chỉ là một quá trình gồm hai bước, dưới đây là hai bước có liên quan:\n",
        "\n",
        "+ Phát hiện các thực thể từ văn bản\n",
        "+ Phân loại chúng thành các loại khác nhau\n",
        "\n",
        "---\n",
        "\n",
        "**Sự mơ hồ trong NER:**\n",
        "\n",
        "Đối với con người, định nghĩa danh mục khá rõ ràng về mặt trực giác, nhưng đối với máy tính, có một số mơ hồ trong việc phân loại. VD:\n",
        "\n",
        "+ Anh (Organization) đã vô địch world cup 2019 vs World Cup 2019 diễn ra ở Anh (Location).\n",
        "\n",
        "+ Washington (Location) là thủ đô của Hoa Kỳ vs Tổng thống đầu tiên của Hoa Kỳ là Washington (Person).\n",
        "\n"
      ]
    },
    {
      "cell_type": "markdown",
      "metadata": {
        "id": "XOXI6_gK7KUT"
      },
      "source": [
        "## Cách thức hoạt động của NER:\n",
        "\n",
        "+ Hệ thống NER phân tích toàn bộ văn bản đầu vào để xác định và định vị các thực thể được đặt tên.\n",
        "\n",
        "+ Sau đó, hệ thống sẽ xác định ranh giới câu bằng cách xem xét các quy tắc viết hoa. Nó nhận ra phần cuối của câu khi một từ bắt đầu bằng chữ in hoa, giả sử đó có thể là phần đầu của một câu mới. Biết ranh giới câu hỗ trợ việc ngữ cảnh hóa các thực thể trong văn bản, cho phép mô hình hiểu được các mối quan hệ và ý nghĩa.\n",
        "\n",
        "+ NER có thể được đào tạo để phân loại toàn bộ tài liệu thành các loại khác nhau, chẳng hạn như hóa đơn, biên lai hoặc hộ chiếu. Phân loại tài liệu nâng cao tính linh hoạt của NER, cho phép nó điều chỉnh nhận dạng thực thể dựa trên các đặc điểm và bối cảnh cụ thể của các loại tài liệu khác nhau.\n",
        "\n",
        "+ NER sử dụng các thuật toán học máy, bao gồm cả học có giám sát, để phân tích các tập dữ liệu được gắn nhãn. Các bộ dữ liệu này chứa các ví dụ về các thực thể được chú thích, hướng dẫn mô hình nhận dạng các thực thể tương tự trong dữ liệu mới, chưa được nhìn thấy.\n",
        "\n",
        "+ Thông qua nhiều lần huấn luyện lặp lại, mô hình sẽ tinh chỉnh sự hiểu biết về các đặc điểm ngữ cảnh, cấu trúc cú pháp và mẫu thực thể, liên tục cải thiện độ chính xác của nó theo thời gian.\n",
        "\n",
        "+ Khả năng thích ứng với dữ liệu mới của mô hình cho phép mô hình xử lý các biến thể về ngôn ngữ, ngữ cảnh và loại thực thể, làm cho mô hình trở nên mạnh mẽ và hiệu quả hơn."
      ]
    },
    {
      "cell_type": "markdown",
      "metadata": {
        "id": "5BK7IDJW8zxT"
      },
      "source": [
        "## Các phương pháp NER:\n",
        "\n",
        "\n",
        "\n"
      ]
    },
    {
      "cell_type": "markdown",
      "metadata": {
        "id": "tGoQcgb19Ge7"
      },
      "source": [
        "### 1.Lexicon Based Method\n",
        "\n",
        "NER sử dụng từ điển với danh sách các từ hoặc thuật ngữ. Quá trình này bao gồm việc kiểm tra xem có bất kỳ từ nào trong số này có trong một văn bản nhất định hay không. Tuy nhiên, cách tiếp cận này không được sử dụng phổ biến vì nó đòi hỏi phải cập nhật liên tục và bảo trì từ điển cẩn thận để luôn chính xác và hiệu quả.\n",
        "\n"
      ]
    },
    {
      "cell_type": "markdown",
      "metadata": {
        "id": "JHt4DJqX9Hbq"
      },
      "source": [
        "### 2.Rule Based Method\n",
        "\n",
        "Dựa trên quy tắc sử dụng một tập hợp các quy tắc được xác định trước để hướng dẫn việc trích xuất thông tin. Các quy tắc này dựa trên mô hình và bối cảnh. Các quy tắc dựa trên mẫu tập trung vào cấu trúc và hình thức của từ, xem xét các mẫu hình thái của chúng. Mặt khác, các quy tắc dựa trên ngữ cảnh xem xét các từ xung quanh hoặc ngữ cảnh mà một từ xuất hiện trong tài liệu văn bản. Sự kết hợp giữa các quy tắc dựa trên mẫu và dựa trên ngữ cảnh này giúp nâng cao độ chính xác của việc trích xuất thông tin trong Nhận dạng thực thể được đặt tên (NER).\n"
      ]
    },
    {
      "cell_type": "markdown",
      "metadata": {
        "id": "6wg5PKEc9XBT"
      },
      "source": [
        "### 3.Machine Learning-Based Method\n",
        "\n",
        "Yêu cầu phải có dữ liệu gán nhãn, ngoài ra, cách để mã hóa dữ liệu dạng text sang dạng số cũng rất quan trọng, ảnh hưởng lớn đến hiệu năng của mô hình.\n",
        "\n",
        "+ Basic Machine Learning models\n",
        "\n",
        "+ Conditional Rnadom Field (CRF)\n",
        "\n",
        "+ Deep Learning-based methods"
      ]
    },
    {
      "cell_type": "markdown",
      "metadata": {
        "id": "TRDgk-KJ9-cD"
      },
      "source": [
        "## Spacy\n",
        "\n"
      ]
    },
    {
      "cell_type": "code",
      "execution_count": 1,
      "metadata": {
        "id": "fIIKg-W_-KRZ"
      },
      "outputs": [],
      "source": [
        "import pandas as pd\n",
        "import spacy\n",
        "import requests\n",
        "from bs4 import BeautifulSoup\n",
        "nlp = spacy.load(\"en_core_web_sm\")\n",
        "pd.set_option(\"display.max_rows\", 200)\n"
      ]
    },
    {
      "cell_type": "markdown",
      "metadata": {
        "id": "xMcmyFYr-mza"
      },
      "source": [
        "**Đoạn code dưới đây sử dụng thư viện spacy để áp dụng cho bài toán NER. Đầu ra hiển thị tên của các thực thể, vị trí bắt đầu và kết thúc của chúng trong văn bản và nhãn dự đoán của chúng.**"
      ]
    },
    {
      "cell_type": "code",
      "execution_count": 2,
      "metadata": {
        "id": "QTF38zQH-RnZ",
        "colab": {
          "base_uri": "https://localhost:8080/"
        },
        "outputId": "7069b9e3-13a1-4401-d08c-897dca93fa6d"
      },
      "outputs": [
        {
          "output_type": "stream",
          "name": "stdout",
          "text": [
            "Congress 10 18 ORG\n",
            "Mahua Moitra 26 38 PERSON\n",
            "the Supreme Court 49 66 ORG\n",
            "the Lok Sabha 94 107 PERSON\n",
            "Moitra 157 163 ORG\n",
            "Parliament 184 194 ORG\n",
            "last week 195 204 DATE\n",
            "the Ethics Committee 211 231 ORG\n",
            "Sabha 243 248 PERSON\n",
            "Darshan Hiranandani 373 392 PERSON\n"
          ]
        }
      ],
      "source": [
        "content = \"\"\"Trinamool Congress leader Mahua Moitra has moved the Supreme Court against her expulsion from the Lok Sabha over the cash-for-query\n",
        "allegations against her. Moitra was ousted from the Parliament last week after the Ethics Committee of the Lok Sabha found her\n",
        "guilty of jeopardising national security by sharing her parliamentary portal's login credentials with businessman Darshan Hiranandani.\"\"\"\n",
        "\n",
        "doc = nlp(content)\n",
        "\n",
        "for ent in doc.ents:\n",
        "\tprint(ent.text, ent.start_char, ent.end_char, ent.label_)"
      ]
    },
    {
      "cell_type": "code",
      "execution_count": 3,
      "metadata": {
        "colab": {
          "base_uri": "https://localhost:8080/",
          "height": 192
        },
        "id": "mQNnlw8o-dY6",
        "outputId": "1410dd84-771d-409b-f1b1-d304897e8acf"
      },
      "outputs": [
        {
          "output_type": "display_data",
          "data": {
            "text/plain": [
              "<IPython.core.display.HTML object>"
            ],
            "text/html": [
              "<span class=\"tex2jax_ignore\"><div class=\"entities\" style=\"line-height: 2.5; direction: ltr\">Trinamool \n",
              "<mark class=\"entity\" style=\"background: #7aecec; padding: 0.45em 0.6em; margin: 0 0.25em; line-height: 1; border-radius: 0.35em;\">\n",
              "    Congress\n",
              "    <span style=\"font-size: 0.8em; font-weight: bold; line-height: 1; border-radius: 0.35em; vertical-align: middle; margin-left: 0.5rem\">ORG</span>\n",
              "</mark>\n",
              " leader \n",
              "<mark class=\"entity\" style=\"background: #aa9cfc; padding: 0.45em 0.6em; margin: 0 0.25em; line-height: 1; border-radius: 0.35em;\">\n",
              "    Mahua Moitra\n",
              "    <span style=\"font-size: 0.8em; font-weight: bold; line-height: 1; border-radius: 0.35em; vertical-align: middle; margin-left: 0.5rem\">PERSON</span>\n",
              "</mark>\n",
              " has moved \n",
              "<mark class=\"entity\" style=\"background: #7aecec; padding: 0.45em 0.6em; margin: 0 0.25em; line-height: 1; border-radius: 0.35em;\">\n",
              "    the Supreme Court\n",
              "    <span style=\"font-size: 0.8em; font-weight: bold; line-height: 1; border-radius: 0.35em; vertical-align: middle; margin-left: 0.5rem\">ORG</span>\n",
              "</mark>\n",
              " against her expulsion from \n",
              "<mark class=\"entity\" style=\"background: #aa9cfc; padding: 0.45em 0.6em; margin: 0 0.25em; line-height: 1; border-radius: 0.35em;\">\n",
              "    the Lok Sabha\n",
              "    <span style=\"font-size: 0.8em; font-weight: bold; line-height: 1; border-radius: 0.35em; vertical-align: middle; margin-left: 0.5rem\">PERSON</span>\n",
              "</mark>\n",
              " over the cash-for-query<br>allegations against her. \n",
              "<mark class=\"entity\" style=\"background: #7aecec; padding: 0.45em 0.6em; margin: 0 0.25em; line-height: 1; border-radius: 0.35em;\">\n",
              "    Moitra\n",
              "    <span style=\"font-size: 0.8em; font-weight: bold; line-height: 1; border-radius: 0.35em; vertical-align: middle; margin-left: 0.5rem\">ORG</span>\n",
              "</mark>\n",
              " was ousted from the \n",
              "<mark class=\"entity\" style=\"background: #7aecec; padding: 0.45em 0.6em; margin: 0 0.25em; line-height: 1; border-radius: 0.35em;\">\n",
              "    Parliament\n",
              "    <span style=\"font-size: 0.8em; font-weight: bold; line-height: 1; border-radius: 0.35em; vertical-align: middle; margin-left: 0.5rem\">ORG</span>\n",
              "</mark>\n",
              " \n",
              "<mark class=\"entity\" style=\"background: #bfe1d9; padding: 0.45em 0.6em; margin: 0 0.25em; line-height: 1; border-radius: 0.35em;\">\n",
              "    last week\n",
              "    <span style=\"font-size: 0.8em; font-weight: bold; line-height: 1; border-radius: 0.35em; vertical-align: middle; margin-left: 0.5rem\">DATE</span>\n",
              "</mark>\n",
              " after \n",
              "<mark class=\"entity\" style=\"background: #7aecec; padding: 0.45em 0.6em; margin: 0 0.25em; line-height: 1; border-radius: 0.35em;\">\n",
              "    the Ethics Committee\n",
              "    <span style=\"font-size: 0.8em; font-weight: bold; line-height: 1; border-radius: 0.35em; vertical-align: middle; margin-left: 0.5rem\">ORG</span>\n",
              "</mark>\n",
              " of the Lok \n",
              "<mark class=\"entity\" style=\"background: #aa9cfc; padding: 0.45em 0.6em; margin: 0 0.25em; line-height: 1; border-radius: 0.35em;\">\n",
              "    Sabha\n",
              "    <span style=\"font-size: 0.8em; font-weight: bold; line-height: 1; border-radius: 0.35em; vertical-align: middle; margin-left: 0.5rem\">PERSON</span>\n",
              "</mark>\n",
              " found her<br>guilty of jeopardising national security by sharing her parliamentary portal's login credentials with businessman \n",
              "<mark class=\"entity\" style=\"background: #aa9cfc; padding: 0.45em 0.6em; margin: 0 0.25em; line-height: 1; border-radius: 0.35em;\">\n",
              "    Darshan Hiranandani\n",
              "    <span style=\"font-size: 0.8em; font-weight: bold; line-height: 1; border-radius: 0.35em; vertical-align: middle; margin-left: 0.5rem\">PERSON</span>\n",
              "</mark>\n",
              ".</div></span>"
            ]
          },
          "metadata": {}
        }
      ],
      "source": [
        "from spacy import displacy\n",
        "displacy.render(doc, style=\"ent\")"
      ]
    },
    {
      "cell_type": "code",
      "execution_count": 4,
      "metadata": {
        "colab": {
          "base_uri": "https://localhost:8080/",
          "height": 363
        },
        "id": "eJt5r9UO-71K",
        "outputId": "84d907b7-1457-43f7-e2c3-c01d03ea381a"
      },
      "outputs": [
        {
          "output_type": "execute_result",
          "data": {
            "text/plain": [
              "                   text    type                 lemma\n",
              "0              Congress     ORG              Congress\n",
              "1          Mahua Moitra  PERSON          Mahua Moitra\n",
              "2     the Supreme Court     ORG     the Supreme Court\n",
              "3         the Lok Sabha  PERSON         the Lok Sabha\n",
              "4                Moitra     ORG                Moitra\n",
              "5            Parliament     ORG            Parliament\n",
              "6             last week    DATE             last week\n",
              "7  the Ethics Committee     ORG  the Ethics Committee\n",
              "8                 Sabha  PERSON                 Sabha\n",
              "9   Darshan Hiranandani  PERSON   Darshan Hiranandani"
            ],
            "text/html": [
              "\n",
              "  <div id=\"df-4f37e01e-425f-4928-9bbe-e7df0ede42e6\" class=\"colab-df-container\">\n",
              "    <div>\n",
              "<style scoped>\n",
              "    .dataframe tbody tr th:only-of-type {\n",
              "        vertical-align: middle;\n",
              "    }\n",
              "\n",
              "    .dataframe tbody tr th {\n",
              "        vertical-align: top;\n",
              "    }\n",
              "\n",
              "    .dataframe thead th {\n",
              "        text-align: right;\n",
              "    }\n",
              "</style>\n",
              "<table border=\"1\" class=\"dataframe\">\n",
              "  <thead>\n",
              "    <tr style=\"text-align: right;\">\n",
              "      <th></th>\n",
              "      <th>text</th>\n",
              "      <th>type</th>\n",
              "      <th>lemma</th>\n",
              "    </tr>\n",
              "  </thead>\n",
              "  <tbody>\n",
              "    <tr>\n",
              "      <th>0</th>\n",
              "      <td>Congress</td>\n",
              "      <td>ORG</td>\n",
              "      <td>Congress</td>\n",
              "    </tr>\n",
              "    <tr>\n",
              "      <th>1</th>\n",
              "      <td>Mahua Moitra</td>\n",
              "      <td>PERSON</td>\n",
              "      <td>Mahua Moitra</td>\n",
              "    </tr>\n",
              "    <tr>\n",
              "      <th>2</th>\n",
              "      <td>the Supreme Court</td>\n",
              "      <td>ORG</td>\n",
              "      <td>the Supreme Court</td>\n",
              "    </tr>\n",
              "    <tr>\n",
              "      <th>3</th>\n",
              "      <td>the Lok Sabha</td>\n",
              "      <td>PERSON</td>\n",
              "      <td>the Lok Sabha</td>\n",
              "    </tr>\n",
              "    <tr>\n",
              "      <th>4</th>\n",
              "      <td>Moitra</td>\n",
              "      <td>ORG</td>\n",
              "      <td>Moitra</td>\n",
              "    </tr>\n",
              "    <tr>\n",
              "      <th>5</th>\n",
              "      <td>Parliament</td>\n",
              "      <td>ORG</td>\n",
              "      <td>Parliament</td>\n",
              "    </tr>\n",
              "    <tr>\n",
              "      <th>6</th>\n",
              "      <td>last week</td>\n",
              "      <td>DATE</td>\n",
              "      <td>last week</td>\n",
              "    </tr>\n",
              "    <tr>\n",
              "      <th>7</th>\n",
              "      <td>the Ethics Committee</td>\n",
              "      <td>ORG</td>\n",
              "      <td>the Ethics Committee</td>\n",
              "    </tr>\n",
              "    <tr>\n",
              "      <th>8</th>\n",
              "      <td>Sabha</td>\n",
              "      <td>PERSON</td>\n",
              "      <td>Sabha</td>\n",
              "    </tr>\n",
              "    <tr>\n",
              "      <th>9</th>\n",
              "      <td>Darshan Hiranandani</td>\n",
              "      <td>PERSON</td>\n",
              "      <td>Darshan Hiranandani</td>\n",
              "    </tr>\n",
              "  </tbody>\n",
              "</table>\n",
              "</div>\n",
              "    <div class=\"colab-df-buttons\">\n",
              "\n",
              "  <div class=\"colab-df-container\">\n",
              "    <button class=\"colab-df-convert\" onclick=\"convertToInteractive('df-4f37e01e-425f-4928-9bbe-e7df0ede42e6')\"\n",
              "            title=\"Convert this dataframe to an interactive table.\"\n",
              "            style=\"display:none;\">\n",
              "\n",
              "  <svg xmlns=\"http://www.w3.org/2000/svg\" height=\"24px\" viewBox=\"0 -960 960 960\">\n",
              "    <path d=\"M120-120v-720h720v720H120Zm60-500h600v-160H180v160Zm220 220h160v-160H400v160Zm0 220h160v-160H400v160ZM180-400h160v-160H180v160Zm440 0h160v-160H620v160ZM180-180h160v-160H180v160Zm440 0h160v-160H620v160Z\"/>\n",
              "  </svg>\n",
              "    </button>\n",
              "\n",
              "  <style>\n",
              "    .colab-df-container {\n",
              "      display:flex;\n",
              "      gap: 12px;\n",
              "    }\n",
              "\n",
              "    .colab-df-convert {\n",
              "      background-color: #E8F0FE;\n",
              "      border: none;\n",
              "      border-radius: 50%;\n",
              "      cursor: pointer;\n",
              "      display: none;\n",
              "      fill: #1967D2;\n",
              "      height: 32px;\n",
              "      padding: 0 0 0 0;\n",
              "      width: 32px;\n",
              "    }\n",
              "\n",
              "    .colab-df-convert:hover {\n",
              "      background-color: #E2EBFA;\n",
              "      box-shadow: 0px 1px 2px rgba(60, 64, 67, 0.3), 0px 1px 3px 1px rgba(60, 64, 67, 0.15);\n",
              "      fill: #174EA6;\n",
              "    }\n",
              "\n",
              "    .colab-df-buttons div {\n",
              "      margin-bottom: 4px;\n",
              "    }\n",
              "\n",
              "    [theme=dark] .colab-df-convert {\n",
              "      background-color: #3B4455;\n",
              "      fill: #D2E3FC;\n",
              "    }\n",
              "\n",
              "    [theme=dark] .colab-df-convert:hover {\n",
              "      background-color: #434B5C;\n",
              "      box-shadow: 0px 1px 3px 1px rgba(0, 0, 0, 0.15);\n",
              "      filter: drop-shadow(0px 1px 2px rgba(0, 0, 0, 0.3));\n",
              "      fill: #FFFFFF;\n",
              "    }\n",
              "  </style>\n",
              "\n",
              "    <script>\n",
              "      const buttonEl =\n",
              "        document.querySelector('#df-4f37e01e-425f-4928-9bbe-e7df0ede42e6 button.colab-df-convert');\n",
              "      buttonEl.style.display =\n",
              "        google.colab.kernel.accessAllowed ? 'block' : 'none';\n",
              "\n",
              "      async function convertToInteractive(key) {\n",
              "        const element = document.querySelector('#df-4f37e01e-425f-4928-9bbe-e7df0ede42e6');\n",
              "        const dataTable =\n",
              "          await google.colab.kernel.invokeFunction('convertToInteractive',\n",
              "                                                    [key], {});\n",
              "        if (!dataTable) return;\n",
              "\n",
              "        const docLinkHtml = 'Like what you see? Visit the ' +\n",
              "          '<a target=\"_blank\" href=https://colab.research.google.com/notebooks/data_table.ipynb>data table notebook</a>'\n",
              "          + ' to learn more about interactive tables.';\n",
              "        element.innerHTML = '';\n",
              "        dataTable['output_type'] = 'display_data';\n",
              "        await google.colab.output.renderOutput(dataTable, element);\n",
              "        const docLink = document.createElement('div');\n",
              "        docLink.innerHTML = docLinkHtml;\n",
              "        element.appendChild(docLink);\n",
              "      }\n",
              "    </script>\n",
              "  </div>\n",
              "\n",
              "\n",
              "<div id=\"df-90c7255b-ced6-45f3-b7c8-30daa3486666\">\n",
              "  <button class=\"colab-df-quickchart\" onclick=\"quickchart('df-90c7255b-ced6-45f3-b7c8-30daa3486666')\"\n",
              "            title=\"Suggest charts\"\n",
              "            style=\"display:none;\">\n",
              "\n",
              "<svg xmlns=\"http://www.w3.org/2000/svg\" height=\"24px\"viewBox=\"0 0 24 24\"\n",
              "     width=\"24px\">\n",
              "    <g>\n",
              "        <path d=\"M19 3H5c-1.1 0-2 .9-2 2v14c0 1.1.9 2 2 2h14c1.1 0 2-.9 2-2V5c0-1.1-.9-2-2-2zM9 17H7v-7h2v7zm4 0h-2V7h2v10zm4 0h-2v-4h2v4z\"/>\n",
              "    </g>\n",
              "</svg>\n",
              "  </button>\n",
              "\n",
              "<style>\n",
              "  .colab-df-quickchart {\n",
              "      --bg-color: #E8F0FE;\n",
              "      --fill-color: #1967D2;\n",
              "      --hover-bg-color: #E2EBFA;\n",
              "      --hover-fill-color: #174EA6;\n",
              "      --disabled-fill-color: #AAA;\n",
              "      --disabled-bg-color: #DDD;\n",
              "  }\n",
              "\n",
              "  [theme=dark] .colab-df-quickchart {\n",
              "      --bg-color: #3B4455;\n",
              "      --fill-color: #D2E3FC;\n",
              "      --hover-bg-color: #434B5C;\n",
              "      --hover-fill-color: #FFFFFF;\n",
              "      --disabled-bg-color: #3B4455;\n",
              "      --disabled-fill-color: #666;\n",
              "  }\n",
              "\n",
              "  .colab-df-quickchart {\n",
              "    background-color: var(--bg-color);\n",
              "    border: none;\n",
              "    border-radius: 50%;\n",
              "    cursor: pointer;\n",
              "    display: none;\n",
              "    fill: var(--fill-color);\n",
              "    height: 32px;\n",
              "    padding: 0;\n",
              "    width: 32px;\n",
              "  }\n",
              "\n",
              "  .colab-df-quickchart:hover {\n",
              "    background-color: var(--hover-bg-color);\n",
              "    box-shadow: 0 1px 2px rgba(60, 64, 67, 0.3), 0 1px 3px 1px rgba(60, 64, 67, 0.15);\n",
              "    fill: var(--button-hover-fill-color);\n",
              "  }\n",
              "\n",
              "  .colab-df-quickchart-complete:disabled,\n",
              "  .colab-df-quickchart-complete:disabled:hover {\n",
              "    background-color: var(--disabled-bg-color);\n",
              "    fill: var(--disabled-fill-color);\n",
              "    box-shadow: none;\n",
              "  }\n",
              "\n",
              "  .colab-df-spinner {\n",
              "    border: 2px solid var(--fill-color);\n",
              "    border-color: transparent;\n",
              "    border-bottom-color: var(--fill-color);\n",
              "    animation:\n",
              "      spin 1s steps(1) infinite;\n",
              "  }\n",
              "\n",
              "  @keyframes spin {\n",
              "    0% {\n",
              "      border-color: transparent;\n",
              "      border-bottom-color: var(--fill-color);\n",
              "      border-left-color: var(--fill-color);\n",
              "    }\n",
              "    20% {\n",
              "      border-color: transparent;\n",
              "      border-left-color: var(--fill-color);\n",
              "      border-top-color: var(--fill-color);\n",
              "    }\n",
              "    30% {\n",
              "      border-color: transparent;\n",
              "      border-left-color: var(--fill-color);\n",
              "      border-top-color: var(--fill-color);\n",
              "      border-right-color: var(--fill-color);\n",
              "    }\n",
              "    40% {\n",
              "      border-color: transparent;\n",
              "      border-right-color: var(--fill-color);\n",
              "      border-top-color: var(--fill-color);\n",
              "    }\n",
              "    60% {\n",
              "      border-color: transparent;\n",
              "      border-right-color: var(--fill-color);\n",
              "    }\n",
              "    80% {\n",
              "      border-color: transparent;\n",
              "      border-right-color: var(--fill-color);\n",
              "      border-bottom-color: var(--fill-color);\n",
              "    }\n",
              "    90% {\n",
              "      border-color: transparent;\n",
              "      border-bottom-color: var(--fill-color);\n",
              "    }\n",
              "  }\n",
              "</style>\n",
              "\n",
              "  <script>\n",
              "    async function quickchart(key) {\n",
              "      const quickchartButtonEl =\n",
              "        document.querySelector('#' + key + ' button');\n",
              "      quickchartButtonEl.disabled = true;  // To prevent multiple clicks.\n",
              "      quickchartButtonEl.classList.add('colab-df-spinner');\n",
              "      try {\n",
              "        const charts = await google.colab.kernel.invokeFunction(\n",
              "            'suggestCharts', [key], {});\n",
              "      } catch (error) {\n",
              "        console.error('Error during call to suggestCharts:', error);\n",
              "      }\n",
              "      quickchartButtonEl.classList.remove('colab-df-spinner');\n",
              "      quickchartButtonEl.classList.add('colab-df-quickchart-complete');\n",
              "    }\n",
              "    (() => {\n",
              "      let quickchartButtonEl =\n",
              "        document.querySelector('#df-90c7255b-ced6-45f3-b7c8-30daa3486666 button');\n",
              "      quickchartButtonEl.style.display =\n",
              "        google.colab.kernel.accessAllowed ? 'block' : 'none';\n",
              "    })();\n",
              "  </script>\n",
              "</div>\n",
              "    </div>\n",
              "  </div>\n"
            ],
            "application/vnd.google.colaboratory.intrinsic+json": {
              "type": "dataframe",
              "variable_name": "df",
              "summary": "{\n  \"name\": \"df\",\n  \"rows\": 10,\n  \"fields\": [\n    {\n      \"column\": \"text\",\n      \"properties\": {\n        \"dtype\": \"string\",\n        \"num_unique_values\": 10,\n        \"samples\": [\n          \"Sabha\",\n          \"Mahua Moitra\",\n          \"Parliament\"\n        ],\n        \"semantic_type\": \"\",\n        \"description\": \"\"\n      }\n    },\n    {\n      \"column\": \"type\",\n      \"properties\": {\n        \"dtype\": \"category\",\n        \"num_unique_values\": 3,\n        \"samples\": [\n          \"ORG\",\n          \"PERSON\",\n          \"DATE\"\n        ],\n        \"semantic_type\": \"\",\n        \"description\": \"\"\n      }\n    },\n    {\n      \"column\": \"lemma\",\n      \"properties\": {\n        \"dtype\": \"string\",\n        \"num_unique_values\": 10,\n        \"samples\": [\n          \"Sabha\",\n          \"Mahua Moitra\",\n          \"Parliament\"\n        ],\n        \"semantic_type\": \"\",\n        \"description\": \"\"\n      }\n    }\n  ]\n}"
            }
          },
          "metadata": {},
          "execution_count": 4
        }
      ],
      "source": [
        "\n",
        "entities = [(ent.text, ent.label_, ent.lemma_) for ent in doc.ents]\n",
        "df = pd.DataFrame(entities, columns=['text', 'type', 'lemma'])\n",
        "df"
      ]
    },
    {
      "cell_type": "markdown",
      "metadata": {
        "id": "ltwB4-E69-zi"
      },
      "source": [
        "## nltk"
      ]
    },
    {
      "cell_type": "code",
      "execution_count": 5,
      "metadata": {
        "colab": {
          "base_uri": "https://localhost:8080/",
          "height": 738
        },
        "id": "m9bA1Ryx9-9L",
        "outputId": "9c5ca2f7-3f1c-4025-d92e-61d893ca9205"
      },
      "outputs": [
        {
          "output_type": "error",
          "ename": "LookupError",
          "evalue": "\n**********************************************************************\n  Resource \u001b[93mpunkt\u001b[0m not found.\n  Please use the NLTK Downloader to obtain the resource:\n\n  \u001b[31m>>> import nltk\n  >>> nltk.download('punkt')\n  \u001b[0m\n  For more information see: https://www.nltk.org/data.html\n\n  Attempted to load \u001b[93mtokenizers/punkt/PY3/english.pickle\u001b[0m\n\n  Searched in:\n    - '/root/nltk_data'\n    - '/usr/nltk_data'\n    - '/usr/share/nltk_data'\n    - '/usr/lib/nltk_data'\n    - '/usr/share/nltk_data'\n    - '/usr/local/share/nltk_data'\n    - '/usr/lib/nltk_data'\n    - '/usr/local/lib/nltk_data'\n    - ''\n**********************************************************************\n",
          "traceback": [
            "\u001b[0;31m---------------------------------------------------------------------------\u001b[0m",
            "\u001b[0;31mLookupError\u001b[0m                               Traceback (most recent call last)",
            "\u001b[0;32m<ipython-input-5-2314827cf6de>\u001b[0m in \u001b[0;36m<cell line: 9>\u001b[0;34m()\u001b[0m\n\u001b[1;32m      7\u001b[0m \u001b[0;34m\u001b[0m\u001b[0m\n\u001b[1;32m      8\u001b[0m \u001b[0;31m# Tokenize the text into words\u001b[0m\u001b[0;34m\u001b[0m\u001b[0;34m\u001b[0m\u001b[0m\n\u001b[0;32m----> 9\u001b[0;31m \u001b[0mtokens\u001b[0m \u001b[0;34m=\u001b[0m \u001b[0mnltk\u001b[0m\u001b[0;34m.\u001b[0m\u001b[0mword_tokenize\u001b[0m\u001b[0;34m(\u001b[0m\u001b[0mcontent\u001b[0m\u001b[0;34m)\u001b[0m\u001b[0;34m\u001b[0m\u001b[0;34m\u001b[0m\u001b[0m\n\u001b[0m\u001b[1;32m     10\u001b[0m \u001b[0;34m\u001b[0m\u001b[0m\n\u001b[1;32m     11\u001b[0m \u001b[0;31m# Apply part-of-speech tagging to the tokens\u001b[0m\u001b[0;34m\u001b[0m\u001b[0;34m\u001b[0m\u001b[0m\n",
            "\u001b[0;32m/usr/local/lib/python3.10/dist-packages/nltk/tokenize/__init__.py\u001b[0m in \u001b[0;36mword_tokenize\u001b[0;34m(text, language, preserve_line)\u001b[0m\n\u001b[1;32m    127\u001b[0m     \u001b[0;34m:\u001b[0m\u001b[0mtype\u001b[0m \u001b[0mpreserve_line\u001b[0m\u001b[0;34m:\u001b[0m \u001b[0mbool\u001b[0m\u001b[0;34m\u001b[0m\u001b[0;34m\u001b[0m\u001b[0m\n\u001b[1;32m    128\u001b[0m     \"\"\"\n\u001b[0;32m--> 129\u001b[0;31m     \u001b[0msentences\u001b[0m \u001b[0;34m=\u001b[0m \u001b[0;34m[\u001b[0m\u001b[0mtext\u001b[0m\u001b[0;34m]\u001b[0m \u001b[0;32mif\u001b[0m \u001b[0mpreserve_line\u001b[0m \u001b[0;32melse\u001b[0m \u001b[0msent_tokenize\u001b[0m\u001b[0;34m(\u001b[0m\u001b[0mtext\u001b[0m\u001b[0;34m,\u001b[0m \u001b[0mlanguage\u001b[0m\u001b[0;34m)\u001b[0m\u001b[0;34m\u001b[0m\u001b[0;34m\u001b[0m\u001b[0m\n\u001b[0m\u001b[1;32m    130\u001b[0m     return [\n\u001b[1;32m    131\u001b[0m         \u001b[0mtoken\u001b[0m \u001b[0;32mfor\u001b[0m \u001b[0msent\u001b[0m \u001b[0;32min\u001b[0m \u001b[0msentences\u001b[0m \u001b[0;32mfor\u001b[0m \u001b[0mtoken\u001b[0m \u001b[0;32min\u001b[0m \u001b[0m_treebank_word_tokenizer\u001b[0m\u001b[0;34m.\u001b[0m\u001b[0mtokenize\u001b[0m\u001b[0;34m(\u001b[0m\u001b[0msent\u001b[0m\u001b[0;34m)\u001b[0m\u001b[0;34m\u001b[0m\u001b[0;34m\u001b[0m\u001b[0m\n",
            "\u001b[0;32m/usr/local/lib/python3.10/dist-packages/nltk/tokenize/__init__.py\u001b[0m in \u001b[0;36msent_tokenize\u001b[0;34m(text, language)\u001b[0m\n\u001b[1;32m    104\u001b[0m     \u001b[0;34m:\u001b[0m\u001b[0mparam\u001b[0m \u001b[0mlanguage\u001b[0m\u001b[0;34m:\u001b[0m \u001b[0mthe\u001b[0m \u001b[0mmodel\u001b[0m \u001b[0mname\u001b[0m \u001b[0;32min\u001b[0m \u001b[0mthe\u001b[0m \u001b[0mPunkt\u001b[0m \u001b[0mcorpus\u001b[0m\u001b[0;34m\u001b[0m\u001b[0;34m\u001b[0m\u001b[0m\n\u001b[1;32m    105\u001b[0m     \"\"\"\n\u001b[0;32m--> 106\u001b[0;31m     \u001b[0mtokenizer\u001b[0m \u001b[0;34m=\u001b[0m \u001b[0mload\u001b[0m\u001b[0;34m(\u001b[0m\u001b[0;34mf\"tokenizers/punkt/{language}.pickle\"\u001b[0m\u001b[0;34m)\u001b[0m\u001b[0;34m\u001b[0m\u001b[0;34m\u001b[0m\u001b[0m\n\u001b[0m\u001b[1;32m    107\u001b[0m     \u001b[0;32mreturn\u001b[0m \u001b[0mtokenizer\u001b[0m\u001b[0;34m.\u001b[0m\u001b[0mtokenize\u001b[0m\u001b[0;34m(\u001b[0m\u001b[0mtext\u001b[0m\u001b[0;34m)\u001b[0m\u001b[0;34m\u001b[0m\u001b[0;34m\u001b[0m\u001b[0m\n\u001b[1;32m    108\u001b[0m \u001b[0;34m\u001b[0m\u001b[0m\n",
            "\u001b[0;32m/usr/local/lib/python3.10/dist-packages/nltk/data.py\u001b[0m in \u001b[0;36mload\u001b[0;34m(resource_url, format, cache, verbose, logic_parser, fstruct_reader, encoding)\u001b[0m\n\u001b[1;32m    748\u001b[0m \u001b[0;34m\u001b[0m\u001b[0m\n\u001b[1;32m    749\u001b[0m     \u001b[0;31m# Load the resource.\u001b[0m\u001b[0;34m\u001b[0m\u001b[0;34m\u001b[0m\u001b[0m\n\u001b[0;32m--> 750\u001b[0;31m     \u001b[0mopened_resource\u001b[0m \u001b[0;34m=\u001b[0m \u001b[0m_open\u001b[0m\u001b[0;34m(\u001b[0m\u001b[0mresource_url\u001b[0m\u001b[0;34m)\u001b[0m\u001b[0;34m\u001b[0m\u001b[0;34m\u001b[0m\u001b[0m\n\u001b[0m\u001b[1;32m    751\u001b[0m \u001b[0;34m\u001b[0m\u001b[0m\n\u001b[1;32m    752\u001b[0m     \u001b[0;32mif\u001b[0m \u001b[0mformat\u001b[0m \u001b[0;34m==\u001b[0m \u001b[0;34m\"raw\"\u001b[0m\u001b[0;34m:\u001b[0m\u001b[0;34m\u001b[0m\u001b[0;34m\u001b[0m\u001b[0m\n",
            "\u001b[0;32m/usr/local/lib/python3.10/dist-packages/nltk/data.py\u001b[0m in \u001b[0;36m_open\u001b[0;34m(resource_url)\u001b[0m\n\u001b[1;32m    874\u001b[0m \u001b[0;34m\u001b[0m\u001b[0m\n\u001b[1;32m    875\u001b[0m     \u001b[0;32mif\u001b[0m \u001b[0mprotocol\u001b[0m \u001b[0;32mis\u001b[0m \u001b[0;32mNone\u001b[0m \u001b[0;32mor\u001b[0m \u001b[0mprotocol\u001b[0m\u001b[0;34m.\u001b[0m\u001b[0mlower\u001b[0m\u001b[0;34m(\u001b[0m\u001b[0;34m)\u001b[0m \u001b[0;34m==\u001b[0m \u001b[0;34m\"nltk\"\u001b[0m\u001b[0;34m:\u001b[0m\u001b[0;34m\u001b[0m\u001b[0;34m\u001b[0m\u001b[0m\n\u001b[0;32m--> 876\u001b[0;31m         \u001b[0;32mreturn\u001b[0m \u001b[0mfind\u001b[0m\u001b[0;34m(\u001b[0m\u001b[0mpath_\u001b[0m\u001b[0;34m,\u001b[0m \u001b[0mpath\u001b[0m \u001b[0;34m+\u001b[0m \u001b[0;34m[\u001b[0m\u001b[0;34m\"\"\u001b[0m\u001b[0;34m]\u001b[0m\u001b[0;34m)\u001b[0m\u001b[0;34m.\u001b[0m\u001b[0mopen\u001b[0m\u001b[0;34m(\u001b[0m\u001b[0;34m)\u001b[0m\u001b[0;34m\u001b[0m\u001b[0;34m\u001b[0m\u001b[0m\n\u001b[0m\u001b[1;32m    877\u001b[0m     \u001b[0;32melif\u001b[0m \u001b[0mprotocol\u001b[0m\u001b[0;34m.\u001b[0m\u001b[0mlower\u001b[0m\u001b[0;34m(\u001b[0m\u001b[0;34m)\u001b[0m \u001b[0;34m==\u001b[0m \u001b[0;34m\"file\"\u001b[0m\u001b[0;34m:\u001b[0m\u001b[0;34m\u001b[0m\u001b[0;34m\u001b[0m\u001b[0m\n\u001b[1;32m    878\u001b[0m         \u001b[0;31m# urllib might not use mode='rb', so handle this one ourselves:\u001b[0m\u001b[0;34m\u001b[0m\u001b[0;34m\u001b[0m\u001b[0m\n",
            "\u001b[0;32m/usr/local/lib/python3.10/dist-packages/nltk/data.py\u001b[0m in \u001b[0;36mfind\u001b[0;34m(resource_name, paths)\u001b[0m\n\u001b[1;32m    581\u001b[0m     \u001b[0msep\u001b[0m \u001b[0;34m=\u001b[0m \u001b[0;34m\"*\"\u001b[0m \u001b[0;34m*\u001b[0m \u001b[0;36m70\u001b[0m\u001b[0;34m\u001b[0m\u001b[0;34m\u001b[0m\u001b[0m\n\u001b[1;32m    582\u001b[0m     \u001b[0mresource_not_found\u001b[0m \u001b[0;34m=\u001b[0m \u001b[0;34mf\"\\n{sep}\\n{msg}\\n{sep}\\n\"\u001b[0m\u001b[0;34m\u001b[0m\u001b[0;34m\u001b[0m\u001b[0m\n\u001b[0;32m--> 583\u001b[0;31m     \u001b[0;32mraise\u001b[0m \u001b[0mLookupError\u001b[0m\u001b[0;34m(\u001b[0m\u001b[0mresource_not_found\u001b[0m\u001b[0;34m)\u001b[0m\u001b[0;34m\u001b[0m\u001b[0;34m\u001b[0m\u001b[0m\n\u001b[0m\u001b[1;32m    584\u001b[0m \u001b[0;34m\u001b[0m\u001b[0m\n\u001b[1;32m    585\u001b[0m \u001b[0;34m\u001b[0m\u001b[0m\n",
            "\u001b[0;31mLookupError\u001b[0m: \n**********************************************************************\n  Resource \u001b[93mpunkt\u001b[0m not found.\n  Please use the NLTK Downloader to obtain the resource:\n\n  \u001b[31m>>> import nltk\n  >>> nltk.download('punkt')\n  \u001b[0m\n  For more information see: https://www.nltk.org/data.html\n\n  Attempted to load \u001b[93mtokenizers/punkt/PY3/english.pickle\u001b[0m\n\n  Searched in:\n    - '/root/nltk_data'\n    - '/usr/nltk_data'\n    - '/usr/share/nltk_data'\n    - '/usr/lib/nltk_data'\n    - '/usr/share/nltk_data'\n    - '/usr/local/share/nltk_data'\n    - '/usr/lib/nltk_data'\n    - '/usr/local/lib/nltk_data'\n    - ''\n**********************************************************************\n"
          ]
        }
      ],
      "source": [
        "import nltk\n",
        "\n",
        "# Define the text to be analyzed\n",
        "content = \"\"\"Trinamool Congress leader Mahua Moitra has moved the Supreme Court against her expulsion from the Lok Sabha over the cash-for-query\n",
        "allegations against her. Moitra was ousted from the Parliament last week after the Ethics Committee of the Lok Sabha found her\n",
        "guilty of jeopardising national security by sharing her parliamentary portal's login credentials with businessman Darshan Hiranandani.\"\"\"\n",
        "\n",
        "# Tokenize the text into words\n",
        "tokens = nltk.word_tokenize(content)\n",
        "\n",
        "# Apply part-of-speech tagging to the tokens\n",
        "tagged = nltk.pos_tag(tokens)\n",
        "\n",
        "# Apply named entity recognition to the tagged words\n",
        "entities = nltk.chunk.ne_chunk(tagged)\n",
        "\n",
        "# Print the entities found in the text\n",
        "for entity in entities:\n",
        "\tif hasattr(entity, \"label\"):\n",
        "\t\tprint(f\"{entity[0][0]} - {entity.label()}\")\n"
      ]
    },
    {
      "cell_type": "code",
      "execution_count": null,
      "metadata": {
        "id": "kYBt2nHtC4aL"
      },
      "outputs": [],
      "source": [
        "import nltk\n",
        "import spacy\n",
        "from spacy.tokens import Doc, Span\n",
        "from spacy import displacy\n",
        "\n",
        "# Load spaCy model to create Doc object for visualization\n",
        "nlp = spacy.blank(\"en\")\n",
        "\n",
        "# Define the text to be analyzed\n",
        "content = \"\"\"Trinamool Congress leader Mahua Moitra has moved the Supreme Court against her expulsion from the Lok Sabha over the cash-for-query\n",
        "allegations against her. Moitra was ousted from the Parliament last week after the Ethics Committee of the Lok Sabha found her\n",
        "guilty of jeopardising national security by sharing her parliamentary portal's login credentials with businessman Darshan Hiranandani.\"\"\"\n",
        "\n",
        "# Tokenize the text into words\n",
        "tokens = nltk.word_tokenize(content)\n",
        "\n",
        "# Apply part-of-speech tagging to the tokens\n",
        "tagged = nltk.pos_tag(tokens)\n",
        "\n",
        "# Apply named entity recognition to the tagged words\n",
        "entities = nltk.chunk.ne_chunk(tagged)\n",
        "\n",
        "# Print the entities found in the text and collect them for visualization\n",
        "spacy_ents = []\n",
        "for entity in entities:\n",
        "    if hasattr(entity, \"label\"):\n",
        "        print(f\"{entity[0][0]} - {entity.label()}\")\n",
        "        start = content.find(entity[0][0])\n",
        "        end = start + len(entity[0][0])\n",
        "        spacy_ents.append((start, end, entity.label()))\n",
        "\n",
        "# Convert the text and entities to spaCy format\n",
        "spacy_tokens = [token.text for token in nlp(content)]\n",
        "spacy_doc = Doc(nlp.vocab, words=spacy_tokens)\n",
        "\n",
        "# Create spaCy spans for entities, avoiding overlaps\n",
        "spacy_spans = []\n",
        "last_end = -1\n",
        "for start, end, label in spacy_ents:\n",
        "    if start >= last_end:  # Ensure no overlap\n",
        "        span = spacy_doc.char_span(start, end, label=label)\n",
        "        if span is not None:\n",
        "            spacy_spans.append(span)\n",
        "            last_end = end\n",
        "\n",
        "# Set the entities for the spaCy Doc\n",
        "spacy_doc.ents = spacy_spans\n",
        "\n",
        "# Visualize with displacy\n",
        "displacy.render(spacy_doc, style=\"ent\", jupyter=True)\n"
      ]
    },
    {
      "cell_type": "markdown",
      "metadata": {
        "id": "f8Kd-gJwCNXs"
      },
      "source": [
        "## transformers\n"
      ]
    },
    {
      "cell_type": "code",
      "execution_count": null,
      "metadata": {
        "id": "yTB_28AZ9-6p"
      },
      "outputs": [],
      "source": [
        "from transformers import pipeline\n",
        "\n",
        "# Load the NER pipeline\n",
        "ner_pipeline = pipeline(\"ner\", grouped_entities=True)\n",
        "\n",
        "# Define the text to be analyzed\n",
        "content = \"\"\"Trinamool Congress leader Mahua Moitra has moved the Supreme Court against her expulsion from the Lok Sabha over the cash-for-query\n",
        "allegations against her. Moitra was ousted from the Parliament last week after the Ethics Committee of the Lok Sabha found her\n",
        "guilty of jeopardising national security by sharing her parliamentary portal's login credentials with businessman Darshan Hiranandani.\"\"\"\n",
        "\n",
        "# Apply NER\n",
        "entities = ner_pipeline(content)\n",
        "\n",
        "# Print the entities found in the text\n",
        "for entity in entities:\n",
        "    print(f\"{entity['word']} - {entity['entity_group']}\")\n"
      ]
    },
    {
      "cell_type": "markdown",
      "metadata": {
        "id": "R3zdulEqub5k"
      },
      "source": [
        "# NER using ML models"
      ]
    },
    {
      "cell_type": "markdown",
      "metadata": {
        "id": "P6jhwE_OupjS"
      },
      "source": [
        "## **Step includes**\n",
        "\n",
        "1. Data collection\n",
        "\n",
        "2. Data preprocessing\n",
        "\n",
        "3. Feature extraction\n",
        "\n",
        "4. Model training\n",
        "\n",
        "5. Model evaluation\n",
        "\n",
        "6. Model fine-tuning (Hyper-parameter optimization)\n",
        "\n",
        "7. Inference (Prediction)\n"
      ]
    },
    {
      "cell_type": "markdown",
      "metadata": {
        "id": "NqBFx3m44t_z"
      },
      "source": [
        "**Có rất nhiều cách để vectorize text data, trong ví dụ này ta sử dụng WordEmbeddings từ mô hình BERT.**"
      ]
    },
    {
      "cell_type": "code",
      "execution_count": null,
      "metadata": {
        "id": "Q1_D2-BK5LRy"
      },
      "outputs": [],
      "source": [
        "from transformers import BertTokenizer, BertModel\n",
        "from sklearn.model_selection import train_test_split\n",
        "from sklearn.preprocessing import LabelEncoder\n",
        "from sklearn.metrics import classification_report, accuracy_score, ConfusionMatrixDisplay\n",
        "import numpy as np\n",
        "\n",
        "# Load BERT model and tokenizer\n",
        "tokenizer = BertTokenizer.from_pretrained('bert-base-cased')\n",
        "bert_model = BertModel.from_pretrained('bert-base-cased')\n",
        "\n",
        "# Sample sentences\n",
        "sentences = [\n",
        "    \"John works at OpenAI in San Francisco.\",\n",
        "    \"Jane works at Google in Mountain View.\",\n",
        "    \"Mike works at Microsoft in Seattle.\",\n",
        "    \"Alice works at Facebook in Menlo Park.\",\n",
        "    \"Bob works at Amazon in Seattle.\",\n",
        "    \"Charlie works at Apple in Cupertino.\"\n",
        "]\n",
        "\n",
        "# Corresponding labels for each sentence\n",
        "label_list = [\n",
        "    ['B-PER', 'O', 'O', 'B-ORG', 'O', 'B-GPE', 'I-GPE'],\n",
        "    ['B-PER', 'O', 'O', 'B-ORG', 'O', 'B-GPE', 'I-GPE'],\n",
        "    ['B-PER', 'O', 'O', 'B-ORG', 'O', 'B-GPE'],\n",
        "    ['B-PER', 'O', 'O', 'B-ORG', 'O', 'B-GPE', 'I-GPE'],\n",
        "    ['B-PER', 'O', 'O', 'B-ORG', 'O', 'B-GPE'],\n",
        "    ['B-PER', 'O', 'O', 'B-ORG', 'O', 'B-GPE', 'I-GPE']\n",
        "]\n",
        "\n",
        "# Prepare the dataset\n",
        "def get_bert_dataset(sentences, label_list):\n",
        "    # Function to get BERT embeddings\n",
        "    all_embeddings = []\n",
        "    all_labels = []\n",
        "    for sentence, labels in zip(sentences, label_list):\n",
        "        inputs = tokenizer(sentence, return_tensors='pt', padding=True, truncation=True, is_split_into_words=True)\n",
        "        outputs = bert_model(**inputs)\n",
        "        last_hidden_state = outputs.last_hidden_state.squeeze(0)\n",
        "\n",
        "        for idx, label in enumerate(labels):\n",
        "            word_embedding = last_hidden_state[idx].detach().numpy()\n",
        "            all_embeddings.append(word_embedding)\n",
        "            all_labels.append(label)\n",
        "    return np.array(all_embeddings), np.array(all_labels)\n",
        "\n",
        "# Get dataset\n",
        "X, y = get_bert_dataset(sentences, label_list)\n",
        "\n",
        "# Encode labels\n",
        "label_encoder = LabelEncoder()\n",
        "y_encoded = label_encoder.fit_transform(y)\n",
        "\n",
        "# Train-test split\n",
        "X_train, X_test, y_train, y_test = train_test_split(X, y_encoded, test_size=0.2, random_state=42)\n",
        "\n",
        "print(X_train[0])\n",
        "print(y_train[0])\n"
      ]
    },
    {
      "cell_type": "markdown",
      "metadata": {
        "id": "pW-htEK1HEZ6"
      },
      "source": [
        "## SVM model"
      ]
    },
    {
      "cell_type": "code",
      "execution_count": null,
      "metadata": {
        "id": "EEd1OZ5VHDAS"
      },
      "outputs": [],
      "source": [
        "from sklearn import svm\n",
        "\n",
        "# Train SVM model\n",
        "clf = svm.SVC(kernel='linear')\n",
        "clf.fit(X_train, y_train)\n",
        "\n",
        "# Evaluate the model\n",
        "y_pred = clf.predict(X_test)\n",
        "\n",
        "y_true_labels = label_encoder.inverse_transform(y_test)\n",
        "y_pred_labels = label_encoder.inverse_transform(y_pred)\n",
        "\n",
        "print(y_true_labels)\n",
        "print(y_pred_labels)\n",
        "print(classification_report(y_true_labels, y_pred_labels))\n",
        "\n",
        "#accuracy score\n",
        "print(f\"Accuracy:{accuracy_score(y_test, y_pred)}\")\n",
        "\n",
        "# draw confusion matrix\n",
        "ConfusionMatrixDisplay.from_estimator(clf, X_test, y_test)"
      ]
    },
    {
      "cell_type": "markdown",
      "metadata": {
        "id": "vyt9phupHUnw"
      },
      "source": [
        "## KNN model"
      ]
    },
    {
      "cell_type": "code",
      "execution_count": null,
      "metadata": {
        "id": "ciMVcsCeHSjD"
      },
      "outputs": [],
      "source": [
        "from sklearn.neighbors import KNeighborsClassifier\n",
        "\n",
        "# Train KNN model\n",
        "model = KNeighborsClassifier(n_neighbors=5)\n",
        "model.fit(X_train, y_train)\n",
        "\n",
        "# Evaluate the model\n",
        "y_pred = model.predict(X_test)\n",
        "\n",
        "y_true_labels = label_encoder.inverse_transform(y_test)\n",
        "y_pred_labels = label_encoder.inverse_transform(y_pred)\n",
        "\n",
        "print(y_true_labels)\n",
        "print(y_pred_labels)\n",
        "print(classification_report(y_true_labels, y_pred_labels))\n",
        "\n",
        "#accuracy score\n",
        "print(f\"Accuracy:{accuracy_score(y_test, y_pred)}\")\n",
        "\n",
        "# draw confusion matrix\n",
        "ConfusionMatrixDisplay.from_estimator(model, X_test, y_test)\n"
      ]
    },
    {
      "cell_type": "markdown",
      "metadata": {
        "id": "u-nAaxrr5FXz"
      },
      "source": [
        "# Bài tập\n",
        "\n",
        "Sử dụng bộ dữ liệu này: https://groups.csail.mit.edu/sls/downloads/movie/\n",
        "\n",
        "+ Training: engtrain.bio\n",
        "\n",
        "+ Testing: engtest.bio\n",
        "\n",
        "Hoặc các bộ dữ liệu khác trên thư mục này: https://github.com/thieu1995/csv-files/tree/main/data/text/ner-data\n",
        "\n",
        "\n",
        "Xây dựng và so sánh các mô hình học máy trong scikit-learn cho bài toán NER."
      ]
    },
    {
      "cell_type": "code",
      "source": [
        "import pandas as pd\n",
        "import numpy as np\n",
        "from transformers import BertTokenizer, BertModel\n",
        "from sklearn import svm\n",
        "from sklearn.neighbors import KNeighborsClassifier\n",
        "from sklearn.preprocessing import LabelEncoder\n",
        "from sklearn.metrics import classification_report, accuracy_score, ConfusionMatrixDisplay"
      ],
      "metadata": {
        "id": "agzvNp01eA6g"
      },
      "execution_count": 7,
      "outputs": []
    },
    {
      "cell_type": "code",
      "source": [
        "def read_data_from_url(url):\n",
        "    df = pd.read_csv(url, sep='\\t', header=None, names=['Entity', 'Word'])\n",
        "    df.fillna('', inplace=True)\n",
        "    return df"
      ],
      "metadata": {
        "id": "uk-i0miPebnE"
      },
      "execution_count": 9,
      "outputs": []
    },
    {
      "cell_type": "code",
      "source": [
        "train_url = \"https://groups.csail.mit.edu/sls/downloads/movie/engtrain.bio\"\n",
        "test_url = \"https://groups.csail.mit.edu/sls/downloads/movie/engtest.bio\"\n",
        "# Đọc dữ liệu từ các URL\n",
        "train_data = read_data_from_url(train_url)\n",
        "test_data = read_data_from_url(test_url)\n"
      ],
      "metadata": {
        "id": "DECk-N-VeWOD"
      },
      "execution_count": 10,
      "outputs": []
    },
    {
      "cell_type": "code",
      "execution_count": 11,
      "metadata": {
        "id": "pjsXXHxgPeNe"
      },
      "outputs": [],
      "source": [
        "def preprocess_data(data):\n",
        "    sentences = []\n",
        "    labels = []\n",
        "    sentence = []\n",
        "    label = []\n",
        "    for _, row in data.iterrows():\n",
        "        word = row['Word']\n",
        "        entity = row['Entity']\n",
        "        if word == '':\n",
        "            if sentence:\n",
        "                sentences.append(sentence)\n",
        "                labels.append(label)\n",
        "                sentence = []\n",
        "                label = []\n",
        "        else:\n",
        "            sentence.append(word)\n",
        "            label.append(entity)\n",
        "    if sentence:\n",
        "        sentences.append(sentence)\n",
        "        labels.append(label)\n",
        "    return sentences, labels\n",
        "\n",
        "train_sentences, train_labels = preprocess_data(train_data)\n",
        "test_sentences, test_labels = preprocess_data(test_data)\n",
        "\n",
        "# Load BERT model and tokenizer\n",
        "tokenizer = BertTokenizer.from_pretrained('bert-base-cased')\n",
        "bert_model = BertModel.from_pretrained('bert-base-cased')\n",
        "\n",
        "# Chuẩn bị tập dữ liệu\n",
        "def get_bert_embeddings(sentences, labels):\n",
        "    all_embeddings = []\n",
        "    all_labels = []\n",
        "    for sentence, label in zip(sentences, labels):\n",
        "        inputs = tokenizer(sentence, return_tensors='pt', is_split_into_words=True, padding=True, truncation=True)\n",
        "        outputs = bert_model(**inputs)\n",
        "        last_hidden_state = outputs.last_hidden_state.squeeze(0)\n",
        "\n",
        "        for idx, lbl in enumerate(label):\n",
        "            if idx < last_hidden_state.shape[0]:  # Ensure index is within bounds\n",
        "                word_embedding = last_hidden_state[idx].detach().numpy()\n",
        "                all_embeddings.append(word_embedding)\n",
        "                all_labels.append(lbl)\n",
        "    return np.array(all_embeddings), np.array(all_labels)\n",
        "\n",
        "\n",
        "X_train, y_train = get_bert_embeddings(train_sentences, train_labels)\n",
        "X_test, y_test = get_bert_embeddings(test_sentences, test_labels)\n",
        "\n",
        "# Encode labels\n",
        "label_encoder = LabelEncoder()\n",
        "\n",
        "all_labels = np.concatenate((y_train, y_test))\n",
        "label_encoder.fit(all_labels)\n",
        "\n",
        "y_train_encoded = label_encoder.transform(y_train)\n",
        "y_test_encoded = label_encoder.transform(y_test)\n",
        "\n",
        "def train_and_evaluate_model(model, X_train, y_train, X_test, y_test):\n",
        "    model.fit(X_train, y_train)\n",
        "    y_pred = model.predict(X_test)\n",
        "\n",
        "    y_true_labels = label_encoder.inverse_transform(y_test)\n",
        "    y_pred_labels = label_encoder.inverse_transform(y_pred)\n",
        "\n",
        "    print(classification_report(y_true_labels, y_pred_labels))\n",
        "    print(f\"Accuracy: {accuracy_score(y_test, y_pred)}\")\n",
        "    ConfusionMatrixDisplay.from_estimator(model, X_test, y_test)\n"
      ]
    },
    {
      "cell_type": "code",
      "source": [
        "svm_model = svm.SVC(kernel='linear')\n",
        "print(\"SVM Model:\")\n",
        "train_and_evaluate_model(svm_model, X_train, y_train_encoded, X_test, y_test_encoded)"
      ],
      "metadata": {
        "colab": {
          "base_uri": "https://localhost:8080/",
          "height": 1000
        },
        "id": "CJk3pSdcekg7",
        "outputId": "ba327fd5-c1ae-4764-f3bb-cd9d06bdfaea"
      },
      "execution_count": 12,
      "outputs": [
        {
          "output_type": "stream",
          "name": "stdout",
          "text": [
            "SVM Model:\n"
          ]
        },
        {
          "output_type": "stream",
          "name": "stderr",
          "text": [
            "/usr/local/lib/python3.10/dist-packages/sklearn/metrics/_classification.py:1344: UndefinedMetricWarning: Precision and F-score are ill-defined and being set to 0.0 in labels with no predicted samples. Use `zero_division` parameter to control this behavior.\n",
            "  _warn_prf(average, modifier, msg_start, len(result))\n",
            "/usr/local/lib/python3.10/dist-packages/sklearn/metrics/_classification.py:1344: UndefinedMetricWarning: Recall and F-score are ill-defined and being set to 0.0 in labels with no true samples. Use `zero_division` parameter to control this behavior.\n",
            "  _warn_prf(average, modifier, msg_start, len(result))\n",
            "/usr/local/lib/python3.10/dist-packages/sklearn/metrics/_classification.py:1344: UndefinedMetricWarning: Precision and F-score are ill-defined and being set to 0.0 in labels with no predicted samples. Use `zero_division` parameter to control this behavior.\n",
            "  _warn_prf(average, modifier, msg_start, len(result))\n",
            "/usr/local/lib/python3.10/dist-packages/sklearn/metrics/_classification.py:1344: UndefinedMetricWarning: Recall and F-score are ill-defined and being set to 0.0 in labels with no true samples. Use `zero_division` parameter to control this behavior.\n",
            "  _warn_prf(average, modifier, msg_start, len(result))\n",
            "/usr/local/lib/python3.10/dist-packages/sklearn/metrics/_classification.py:1344: UndefinedMetricWarning: Precision and F-score are ill-defined and being set to 0.0 in labels with no predicted samples. Use `zero_division` parameter to control this behavior.\n",
            "  _warn_prf(average, modifier, msg_start, len(result))\n",
            "/usr/local/lib/python3.10/dist-packages/sklearn/metrics/_classification.py:1344: UndefinedMetricWarning: Recall and F-score are ill-defined and being set to 0.0 in labels with no true samples. Use `zero_division` parameter to control this behavior.\n",
            "  _warn_prf(average, modifier, msg_start, len(result))\n"
          ]
        },
        {
          "output_type": "stream",
          "name": "stdout",
          "text": [
            "                   precision    recall  f1-score   support\n",
            "\n",
            "          B-ACTOR       0.05      0.05      0.05        21\n",
            "      B-CHARACTER       0.00      0.00      0.00         2\n",
            "       B-DIRECTOR       0.00      0.00      0.00         8\n",
            "          B-GENRE       0.04      0.06      0.05        18\n",
            "           B-PLOT       0.00      0.00      0.00        10\n",
            "         B-RATING       0.00      0.00      0.00         8\n",
            "B-RATINGS_AVERAGE       0.00      0.00      0.00         9\n",
            "         B-REVIEW       0.00      0.00      0.00         4\n",
            "           B-SONG       0.00      0.00      0.00         3\n",
            "          B-TITLE       0.07      0.10      0.08        10\n",
            "        B-TRAILER       0.00      0.00      0.00         0\n",
            "           B-YEAR       0.00      0.00      0.00        17\n",
            "          I-ACTOR       0.00      0.00      0.00        22\n",
            "      I-CHARACTER       0.00      0.00      0.00         1\n",
            "       I-DIRECTOR       0.00      0.00      0.00         7\n",
            "          I-GENRE       0.12      0.09      0.11        11\n",
            "           I-PLOT       0.00      0.00      0.00         9\n",
            "         I-RATING       0.00      0.00      0.00         4\n",
            "I-RATINGS_AVERAGE       0.00      0.00      0.00         7\n",
            "         I-REVIEW       0.00      0.00      0.00         4\n",
            "           I-SONG       0.00      0.00      0.00         1\n",
            "          I-TITLE       0.00      0.00      0.00        16\n",
            "        I-TRAILER       0.00      0.00      0.00         0\n",
            "           I-YEAR       0.00      0.00      0.00         3\n",
            "                O       0.64      0.71      0.67       317\n",
            "\n",
            "         accuracy                           0.45       512\n",
            "        macro avg       0.04      0.04      0.04       512\n",
            "     weighted avg       0.40      0.45      0.42       512\n",
            "\n",
            "Accuracy: 0.447265625\n"
          ]
        },
        {
          "output_type": "display_data",
          "data": {
            "text/plain": [
              "<Figure size 640x480 with 2 Axes>"
            ],
            "image/png": "[encoded data removed]"
          },
          "metadata": {}
        }
      ]
    },
    {
      "cell_type": "code",
      "source": [
        "knn_model = KNeighborsClassifier(n_neighbors=3)\n",
        "print(\"K-Nearest Neighbors Model:\")\n",
        "train_and_evaluate_model(knn_model, X_train, y_train_encoded, X_test, y_test_encoded)"
      ],
      "metadata": {
        "colab": {
          "base_uri": "https://localhost:8080/",
          "height": 1000
        },
        "id": "asGWJCd7ekDw",
        "outputId": "71e88800-0911-4cce-a24c-1748351990ca"
      },
      "execution_count": 13,
      "outputs": [
        {
          "output_type": "stream",
          "name": "stdout",
          "text": [
            "K-Nearest Neighbors Model:\n",
            "                   precision    recall  f1-score   support\n",
            "\n",
            "          B-ACTOR       0.00      0.00      0.00        21\n",
            "      B-CHARACTER       0.00      0.00      0.00         2\n",
            "       B-DIRECTOR       0.00      0.00      0.00         8\n",
            "          B-GENRE       0.00      0.00      0.00        18\n",
            "           B-PLOT       0.00      0.00      0.00        10\n",
            "         B-RATING       0.00      0.00      0.00         8\n",
            "B-RATINGS_AVERAGE       0.00      0.00      0.00         9\n",
            "         B-REVIEW       0.00      0.00      0.00         4\n",
            "           B-SONG       0.00      0.00      0.00         3\n",
            "          B-TITLE       0.04      0.10      0.06        10\n",
            "        B-TRAILER       0.00      0.00      0.00         0\n",
            "           B-YEAR       0.00      0.00      0.00        17\n",
            "          I-ACTOR       0.05      0.05      0.05        22\n",
            "      I-CHARACTER       0.00      0.00      0.00         1\n",
            "       I-DIRECTOR       0.00      0.00      0.00         7\n",
            "          I-GENRE       0.00      0.00      0.00        11\n",
            "           I-PLOT       0.00      0.00      0.00         9\n",
            "         I-RATING       0.00      0.00      0.00         4\n",
            "I-RATINGS_AVERAGE       0.00      0.00      0.00         7\n",
            "         I-REVIEW       0.00      0.00      0.00         4\n",
            "           I-SONG       0.00      0.00      0.00         1\n",
            "          I-TITLE       0.00      0.00      0.00        16\n",
            "           I-YEAR       0.00      0.00      0.00         3\n",
            "                O       0.64      0.73      0.68       317\n",
            "\n",
            "         accuracy                           0.46       512\n",
            "        macro avg       0.03      0.04      0.03       512\n",
            "     weighted avg       0.40      0.46      0.43       512\n",
            "\n",
            "Accuracy: 0.45703125\n"
          ]
        },
        {
          "output_type": "stream",
          "name": "stderr",
          "text": [
            "/usr/local/lib/python3.10/dist-packages/sklearn/metrics/_classification.py:1344: UndefinedMetricWarning: Precision and F-score are ill-defined and being set to 0.0 in labels with no predicted samples. Use `zero_division` parameter to control this behavior.\n",
            "  _warn_prf(average, modifier, msg_start, len(result))\n",
            "/usr/local/lib/python3.10/dist-packages/sklearn/metrics/_classification.py:1344: UndefinedMetricWarning: Recall and F-score are ill-defined and being set to 0.0 in labels with no true samples. Use `zero_division` parameter to control this behavior.\n",
            "  _warn_prf(average, modifier, msg_start, len(result))\n",
            "/usr/local/lib/python3.10/dist-packages/sklearn/metrics/_classification.py:1344: UndefinedMetricWarning: Precision and F-score are ill-defined and being set to 0.0 in labels with no predicted samples. Use `zero_division` parameter to control this behavior.\n",
            "  _warn_prf(average, modifier, msg_start, len(result))\n",
            "/usr/local/lib/python3.10/dist-packages/sklearn/metrics/_classification.py:1344: UndefinedMetricWarning: Recall and F-score are ill-defined and being set to 0.0 in labels with no true samples. Use `zero_division` parameter to control this behavior.\n",
            "  _warn_prf(average, modifier, msg_start, len(result))\n",
            "/usr/local/lib/python3.10/dist-packages/sklearn/metrics/_classification.py:1344: UndefinedMetricWarning: Precision and F-score are ill-defined and being set to 0.0 in labels with no predicted samples. Use `zero_division` parameter to control this behavior.\n",
            "  _warn_prf(average, modifier, msg_start, len(result))\n",
            "/usr/local/lib/python3.10/dist-packages/sklearn/metrics/_classification.py:1344: UndefinedMetricWarning: Recall and F-score are ill-defined and being set to 0.0 in labels with no true samples. Use `zero_division` parameter to control this behavior.\n",
            "  _warn_prf(average, modifier, msg_start, len(result))\n"
          ]
        },
        {
          "output_type": "display_data",
          "data": {
            "text/plain": [
              "<Figure size 640x480 with 2 Axes>"
            ],
            "image/png": "[encoded data removed]"
          },
          "metadata": {}
        }
      ]
    }
  ],
  "metadata": {
    "colab": {
      "provenance": [],
      "toc_visible": true,
      "gpuType": "T4"
    },
    "kernelspec": {
      "display_name": "Python 3",
      "name": "python3"
    },
    "language_info": {
      "codemirror_mode": {
        "name": "ipython",
        "version": 3
      },
      "file_extension": ".py",
      "mimetype": "text/x-python",
      "name": "python",
      "nbconvert_exporter": "python",
      "pygments_lexer": "ipython3",
      "version": "3.11.9"
    },
    "accelerator": "GPU"
  },
  "nbformat": 4,
  "nbformat_minor": 0
}