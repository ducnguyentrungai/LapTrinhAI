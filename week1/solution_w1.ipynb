{
 "cells": [
  {
   "cell_type": "code",
   "execution_count": 16,
   "metadata": {},
   "outputs": [],
   "source": [
    "import numpy as np\n",
    "import math "
   ]
  },
  {
   "cell_type": "markdown",
   "metadata": {},
   "source": [
    "# Example 2"
   ]
  },
  {
   "cell_type": "code",
   "execution_count": 17,
   "metadata": {},
   "outputs": [
    {
     "name": "stdout",
     "output_type": "stream",
     "text": [
      "16.444746\n",
      "33\n"
     ]
    }
   ],
   "source": [
    "\n",
    "def compound_interest(P, r, n, t):\n",
    "    A = P * ((1 + 1.0*r/n) ** (n * t))\n",
    "    return round(A, 6)\n",
    "\n",
    "def years_to_have_nmoney(A, P, r, n):\n",
    "    t = 0\n",
    "    while True:\n",
    "        if (P * ((1 + 1.0*r/n) ** (n * t))) >= A:\n",
    "            return t\n",
    "        t = t + 1\n",
    "    \n",
    "\n",
    "P = 10\n",
    "r = 0.051\n",
    "n = 1\n",
    "t = 10\n",
    "\n",
    "print(compound_interest(P, r, n, t))\n",
    "print(years_to_have_nmoney(50, P,r,n))"
   ]
  },
  {
   "cell_type": "markdown",
   "metadata": {},
   "source": [
    "# Example 3"
   ]
  },
  {
   "cell_type": "code",
   "execution_count": 18,
   "metadata": {},
   "outputs": [
    {
     "name": "stdout",
     "output_type": "stream",
     "text": [
      "[1, 0, 0, 0]\n"
     ]
    }
   ],
   "source": [
    "def decimal_to_binary(n):\n",
    "    lst = []\n",
    "    while n > 0:\n",
    "        temp = n % 2\n",
    "        lst.insert(0, temp)\n",
    "        n = n // 2\n",
    "    return lst\n",
    "\n",
    "print(decimal_to_binary(8))\n",
    "        "
   ]
  },
  {
   "cell_type": "code",
   "execution_count": 19,
   "metadata": {},
   "outputs": [
    {
     "name": "stdout",
     "output_type": "stream",
     "text": [
      "Chuyển số 670 sang hệ cơ số 8 là:  1236\n"
     ]
    }
   ],
   "source": [
    "def decimal(lst):\n",
    "    num = 0\n",
    "    for digit in lst:\n",
    "        num = num * 10 + digit\n",
    "    return num\n",
    "\n",
    "def decimal_to_octal(number):\n",
    "    ls = []\n",
    "    while number > 0:  \n",
    "        temp = number % 8\n",
    "        number = number // 8\n",
    "        ls.insert(0, temp)\n",
    "    return decimal(ls)\n",
    "\n",
    "print(\"Chuyển số 670 sang hệ cơ số 8 là: \",decimal_to_octal(670))     \n",
    "\n"
   ]
  },
  {
   "cell_type": "code",
   "execution_count": 20,
   "metadata": {},
   "outputs": [
    {
     "name": "stdout",
     "output_type": "stream",
     "text": [
      "Số 10 chuyển sang hệ cơ số 16 là: A\n"
     ]
    }
   ],
   "source": [
    "def decimal_to_hexadecimal(decimal_num):\n",
    "    hex_digits = \"0123456789ABCDEF\"\n",
    "    if decimal_num == 0:\n",
    "        return \"0\"\n",
    "    hexadecimal_num = \"\"\n",
    "    while decimal_num > 0:\n",
    "        remainder = decimal_num % 16\n",
    "        hexadecimal_num = hex_digits[remainder] + hexadecimal_num\n",
    "        decimal_num = decimal_num // 16\n",
    "    return hexadecimal_num\n",
    "\n",
    "# Sử dụng hàm để chuyển đổi số 10 sang hệ cơ số 16\n",
    "decimal_number = 10\n",
    "hexadecimal_number = decimal_to_hexadecimal(decimal_number)\n",
    "print(\"Số 10 chuyển sang hệ cơ số 16 là:\", hexadecimal_number)\n"
   ]
  },
  {
   "cell_type": "markdown",
   "metadata": {},
   "source": [
    "# Example 4"
   ]
  },
  {
   "cell_type": "code",
   "execution_count": 21,
   "metadata": {},
   "outputs": [
    {
     "name": "stdout",
     "output_type": "stream",
     "text": [
      "Căn bậc b của a là:  9.0\n"
     ]
    }
   ],
   "source": [
    "a = int(input(\"Enter a: \"))\n",
    "b = int(input(\"Enter b: \"))\n",
    "\n",
    "def can_bac_b_cua_a(a, b):\n",
    "    return pow(a, 1/b)\n",
    "print(\"Căn bậc b của a là: \", can_bac_b_cua_a(a,b))"
   ]
  },
  {
   "cell_type": "markdown",
   "metadata": {},
   "source": [
    "# Example 5"
   ]
  },
  {
   "cell_type": "code",
   "execution_count": 24,
   "metadata": {},
   "outputs": [
    {
     "name": "stdout",
     "output_type": "stream",
     "text": [
      "[3, 1]\n"
     ]
    }
   ],
   "source": [
    "x = int(input(\"Enter x: \"))\n",
    "def count_number_ofX(n):\n",
    "    ls =[]\n",
    "    count = 1\n",
    "    while n >= 10:\n",
    "        n //= 10\n",
    "        count +=1\n",
    "    ls.append(count)\n",
    "    ls.append(n)\n",
    "    return ls\n",
    "print(count_number_ofX(x))"
   ]
  }
 ],
 "metadata": {
  "kernelspec": {
   "display_name": "Python 3",
   "language": "python",
   "name": "python3"
  },
  "language_info": {
   "codemirror_mode": {
    "name": "ipython",
    "version": 3
   },
   "file_extension": ".py",
   "mimetype": "text/x-python",
   "name": "python",
   "nbconvert_exporter": "python",
   "pygments_lexer": "ipython3",
   "version": "3.12.0"
  }
 },
 "nbformat": 4,
 "nbformat_minor": 2
}
